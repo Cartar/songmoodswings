{
 "cells": [
  {
   "cell_type": "code",
   "execution_count": 1,
   "id": "b0290856-53bb-4223-a1a0-542691e6f6b5",
   "metadata": {},
   "outputs": [],
   "source": [
    "# Library/module imports\n",
    "import requests\n",
    "from bs4 import BeautifulSoup\n",
    "from datetime import datetime, timedelta\n",
    "from time import sleep\n",
    "import pandas as pd"
   ]
  },
  {
   "cell_type": "code",
   "execution_count": 2,
   "id": "fde21ac9-1e19-480c-b880-a94cfd30ae43",
   "metadata": {},
   "outputs": [],
   "source": [
    "## Pretend to be a browser (https://stackoverflow.com/questions/43590153/http-error-403-forbidden-when-reading-html/43590290#43590290):\n",
    "header = {\n",
    "  \"User-Agent\": \"Mozilla/5.0 (X11; Linux x86_64) AppleWebKit/537.36 (KHTML, like Gecko) Chrome/50.0.2661.75 Safari/537.36\",\n",
    "  \"X-Requested-With\": \"XMLHttpRequest\"\n",
    "}"
   ]
  },
  {
   "cell_type": "code",
   "execution_count": 3,
   "id": "5d3c0f70-3769-4718-902d-8e4e7ee28f24",
   "metadata": {},
   "outputs": [],
   "source": [
    "read_pg = requests.get(\"https://acharts.co/canada_singles_top_100/2022/36\", headers=header)"
   ]
  },
  {
   "cell_type": "code",
   "execution_count": 4,
   "id": "6a5d0ce1-1610-4c70-9924-7c9b73a8f945",
   "metadata": {},
   "outputs": [],
   "source": [
    "# Learning soup\n",
    "# https://www.crummy.com/software/BeautifulSoup/bs4/doc/\n",
    "soup = BeautifulSoup(read_pg.text, \"html.parser\")"
   ]
  },
  {
   "cell_type": "code",
   "execution_count": 68,
   "id": "3e4b6108-944f-412e-8611-d84029ae89c9",
   "metadata": {
    "tags": []
   },
   "outputs": [],
   "source": [
    "## Dump in file for fun:\n",
    "html = soup.prettify(\"utf-8\")\n",
    "with open(\"soupDump.html\", \"wb\") as file:\n",
    "    file.write(html)"
   ]
  },
  {
   "cell_type": "code",
   "execution_count": 69,
   "id": "73c78eb6-1677-40f2-9abf-cbc089c0c73f",
   "metadata": {
    "collapsed": true,
    "jupyter": {
     "outputs_hidden": true,
     "source_hidden": true
    },
    "tags": []
   },
   "outputs": [
    {
     "data": {
      "text/plain": [
       "bs4.element.Tag"
      ]
     },
     "execution_count": 69,
     "metadata": {},
     "output_type": "execute_result"
    }
   ],
   "source": [
    "# All is in here:\n",
    "type(soup.findAll(\"table\")[0])"
   ]
  },
  {
   "cell_type": "code",
   "execution_count": 70,
   "id": "7c1c4067-b7d7-448d-a35a-f243730da985",
   "metadata": {
    "jupyter": {
     "source_hidden": true
    },
    "tags": []
   },
   "outputs": [],
   "source": [
    "s = soup.findAll(\"table\")[0]"
   ]
  },
  {
   "cell_type": "code",
   "execution_count": 6,
   "id": "64c4a36b-df78-47a8-8d76-6a0a47ed5fcc",
   "metadata": {},
   "outputs": [],
   "source": [
    "def song_scrape(soup):\n",
    "    s = soup.findAll(\"table\")[0]\n",
    "    top100 = []\n",
    "\n",
    "    for tr in s.find(\"tbody\").findAll(\"tr\"):\n",
    "        # tr = s.find(\"tbody\").findAll(\"tr\")[2]\n",
    "\n",
    "        rank = tr.find('span', {\"itemprop\": \"position\"}).text\n",
    "        rankPrev = tr.find('span', {'class':'Sub subStatsPrev'}).text\n",
    "        rankPrev = rankPrev.replace(\"\\n\",\"\").replace(\" \",\"\")\n",
    "        title = tr.find('span', {'itemprop':'name'}).text\n",
    "\n",
    "        artist = \"\"\n",
    "        first = True\n",
    "        for artists in tr.findAll('span', {'itemprop':'byArtist'}):\n",
    "            if first:\n",
    "                artist += artists.find('span', {'itemprop':'name'}).text\n",
    "                first = False\n",
    "            else:\n",
    "                artist += \" and \" + artists.find('span', {'itemprop':'name'}).text\n",
    "        \n",
    "        top100.append((title, artist, rank, rankPrev))\n",
    "    return top100"
   ]
  },
  {
   "cell_type": "code",
   "execution_count": 7,
   "id": "004bcdc7-0574-4470-b717-22e034aabb75",
   "metadata": {},
   "outputs": [],
   "source": [
    "foo = song_scrape(soup)"
   ]
  },
  {
   "cell_type": "code",
   "execution_count": 8,
   "id": "f81fe71c-e298-4579-a20b-a16ace8cb7bf",
   "metadata": {
    "collapsed": true,
    "jupyter": {
     "outputs_hidden": true
    },
    "tags": []
   },
   "outputs": [
    {
     "data": {
      "text/plain": [
       "[('Sunroof', 'Nicky Youre and Dazy', '1', '(2)'),\n",
       " ('As It Was', 'Harry Styles', '2', '(1)'),\n",
       " ('Hold Me Closer', 'Elton John and Britney Spears', '3', '(new)'),\n",
       " ('About Damn Time', 'Lizzo', '4', '(3)'),\n",
       " ('Numb', 'Marshmello and Khalid', '5', '(5)'),\n",
       " ('I Like You (a Happier Song)', 'Post Malone and Doja Cat', '6', '(6)'),\n",
       " ('Late Night Talking', 'Harry Styles', '7', '(7)'),\n",
       " (\"I'm Good (blue)\", 'David Guetta and Bebe Rexha', '8', '(new)'),\n",
       " (\"I Ain't Worried\", 'OneRepublic', '9', '(10)'),\n",
       " ('Flowers Need Rain', 'Preston Pablo and Banx + Ranx', '10', '(9)'),\n",
       " ('Heat Waves', 'Glass Animals', '11', '(8)'),\n",
       " ('Super Freaky Girl', 'Nicki Minaj', '12', '(11)'),\n",
       " ('The Kind Of Love We Make', 'Luke Combs', '13', '(14)'),\n",
       " ('Cold Heart (pnau Remix)', 'Elton John and Dua Lipa', '14', '(15)'),\n",
       " ('Bad Habit', 'Steve Lacy', '15', '(13)'),\n",
       " ('Jimmy Cooks', 'Drake and 21 Savage', '16', '(16)'),\n",
       " ('Break My Soul', 'Beyoncé', '17', '(12)'),\n",
       " ('Staying Alive', 'DJ Khaled and Drake and Lil Baby', '18', '(25)'),\n",
       " ('Running Up That Hill', 'Kate Bush', '19', '(17)'),\n",
       " (\"When You're Gone\", 'Shawn Mendes', '20', '(26)'),\n",
       " ('Stay', 'Kid Laroi and Justin Bieber', '21', '(19)'),\n",
       " ('Bam Bam', 'Camila Cabello and Ed Sheeran', '22', '(18)'),\n",
       " ('Shivers', 'Ed Sheeran', '23', '(22)'),\n",
       " ('Pink Venom', 'Blackpink', '24', '(4)'),\n",
       " ('2step', 'Ed Sheeran', '25', '(23)'),\n",
       " ('First Class', 'Jack Harlow', '26', '(24)'),\n",
       " ('Beat The Odds', 'Lil Tjay', '27', '(new)'),\n",
       " ('Big Energy', 'Latto', '28', '(20)'),\n",
       " ('God Did', 'DJ Khaled and Ross and Lil Wayne', '29', '(new)'),\n",
       " ('Under The Influence', 'Chris Brown', '30', '(37)'),\n",
       " ('Vegas', 'Doja Cat', '31', '(28)'),\n",
       " ('She Had Me At Heads Carolina', 'Cole Swindell', '32', '(35)'),\n",
       " ('Ghost', 'Justin Bieber', '33', '(27)'),\n",
       " ('Calm Down', 'Rema', '34', '(94)'),\n",
       " ('Soul', 'Lee Brice', '35', '(30)'),\n",
       " ('Glimpse Of Us', 'Joji', '36', '(33)'),\n",
       " ('Doja', 'Central Cee', '37', '(29)'),\n",
       " ('You Proof', 'Morgan Wallen', '38', '(40)'),\n",
       " ('5 Foot 9', 'Tyler Hubbard', '39', '(39)'),\n",
       " ('Left And Right', 'Charlie Puth and Jung Kook', '40', '(32)'),\n",
       " ('Like I Love Country Music', 'Kane Brown', '41', '(34)'),\n",
       " ('Betty (get Money)', 'Yung Gravy', '42', '(38)'),\n",
       " (\"She's All I Wanna Be\", 'Tate Mcrae', '43', '(36)'),\n",
       " ('Rock And A Hard Place', 'Bailey Zimmerman', '44', '(31)'),\n",
       " ('Run Away To Mars', 'Talk', '45', '(46)'),\n",
       " ('Beautiful', 'DJ Khaled and Future and SZA', '46', '(new)'),\n",
       " ('Where It Ends', 'Bailey Zimmerman', '47', '(21)'),\n",
       " ('Last Last', 'Burna Boy', '48', '(42)'),\n",
       " ('Unstoppable', 'Sia', '49', '(48)'),\n",
       " ('Big Time', 'DJ Khaled and Future and Lil Baby', '50', '(new)'),\n",
       " ('Wait For U', 'Future and Drake and Tems', '51', '(45)'),\n",
       " ('Something In The Orange', 'Zach Bryan', '52', '(54)'),\n",
       " ('Massive', 'Drake', '53', '(43)'),\n",
       " ('Headphones', 'Banx + Ranx and Reve', '54', '(51)'),\n",
       " ('Use This Gospel', 'Kanye West', '55', '(re-entry)'),\n",
       " ('Juice Wrld Did', 'DJ Khaled and Juice WRLD', '56', '(new)'),\n",
       " ('Snap', 'Rosa Linn', '57', '(53)'),\n",
       " ('Mary On A Cross', 'Ghost', '58', '(65)'),\n",
       " ('Hold My Hand', 'Lady GaGa', '59', '(55)'),\n",
       " ('2 Be Loved (am I Ready)', 'Lizzo', '60', '(77)'),\n",
       " ('Sticky', 'Drake', '61', '(52)'),\n",
       " ('Victoriaâ\\x80\\x99s Secret', 'J.Ax', '62', '(58)'),\n",
       " ('No Hard Feelings', 'Old Dominion', '63', '(56)'),\n",
       " ('Billie Eilish.', 'Armani White', '64', '(76)'),\n",
       " ('Talk That Talk', 'Twice', '65', '(new)'),\n",
       " (\"Don't You Worry\",\n",
       "  'The Black Eyed Peas and Shakira + David Guetta',\n",
       "  '66',\n",
       "  '(57)'),\n",
       " ('Keep Going',\n",
       "  'DJ Khaled and Lil Durk and 21 Savage and Roddy Ricch',\n",
       "  '67',\n",
       "  '(new)'),\n",
       " ('Until I Found You', 'Stephen Sanchez', '68', '(60)'),\n",
       " (\"Where'd You Learn How To Do That\", 'Dean Brody', '69', '(63)'),\n",
       " ('So Good', 'Halsey', '70', '(62)'),\n",
       " ('Whiskey On You', 'Nate Smith', '71', '(59)'),\n",
       " ('Love We Lost', 'Armin Van Buuren and R3Hab and Simon Ward', '72', '(66)'),\n",
       " ('Party', 'DJ Khaled and Quavo and Takeoff', '73', '(new)'),\n",
       " ('No Secret', 'DJ Khaled and Drake', '74', '(new)'),\n",
       " (\"Let's Pray\", 'DJ Khaled and Don Toliver and Travis Scott', '75', '(new)'),\n",
       " ('Fall In Love', 'Bailey Zimmerman', '76', '(64)'),\n",
       " ('Ferrari', 'James Hype and Miggy Dela Rosa', '77', '(70)'),\n",
       " ('Half Of Me', 'Thomas Rhett and Riley Green', '78', '(71)'),\n",
       " ('With A Woman You Love', 'Justin Moore', '79', '(68)'),\n",
       " ('The Color Violet', 'Tory Lanez', '80', '(98)'),\n",
       " ('Bad Decisions', 'Benny Blanco and BTS and Snoop Dogg', '81', '(61)'),\n",
       " ('Ku Lo Sa', 'Oxlade', '82', '(86)'),\n",
       " ('Belly Dancer', 'Imanbek and Byor', '83', '(74)'),\n",
       " ('Alien Superstar', 'Beyoncé', '84', '(72)'),\n",
       " ('Thousand Miles', 'Kid Laroi', '85', '(69)'),\n",
       " ('Me Porto Bonito', 'Bad Bunny and Chencho \\tCorleone', '86', '(73)'),\n",
       " ('Trompeta', 'Willy William', '87', '(75)'),\n",
       " ('Grand', 'Kane Brown', '88', '(re-entry)'),\n",
       " (\"It Ain't Safe\", 'DJ Khaled and Nardo Wick and Kodak Black', '89', '(new)'),\n",
       " ('Music For A Sushi Restaurant', 'Harry Styles', '90', '(78)'),\n",
       " ('These Nights', 'Loud Luxury and Kiddo', '91', '(83)'),\n",
       " ('No Excuses', 'Virginia To Vegas', '92', '(89)'),\n",
       " ('Never Sleep', 'NAV and Travis Scott and Lil Baby', '93', '(67)'),\n",
       " ('Float', 'Tim and The Glory Boys', '94', '(84)'),\n",
       " ('Yukon (interlude)', 'Joji', '95', '(new)'),\n",
       " ('After Like', 'Ive', '96', '(new)'),\n",
       " ('First Taste Of Gone', 'Josh Ross', '97', '(81)'),\n",
       " ('Sex, Drugs, Etc.', 'Beach Weather', '98', '(new)'),\n",
       " ('New Truck', 'Dylan Scott', '99', '(82)'),\n",
       " ('Despechá', 'Rosalia', '100', '(80)')]"
      ]
     },
     "execution_count": 8,
     "metadata": {},
     "output_type": "execute_result"
    }
   ],
   "source": [
    "foo"
   ]
  },
  {
   "cell_type": "markdown",
   "id": "8ac9dd86-20ca-4633-9317-2057a471ff47",
   "metadata": {},
   "source": [
    "## part 2: lyrics!\n",
    "Using: https://www.azlyrics.com/\n",
    "\n",
    "Format song to be: primary artist / title (nospaces, brackets, accents)"
   ]
  },
  {
   "cell_type": "code",
   "execution_count": 9,
   "id": "3a685a7b-1206-45b5-84f3-7d5d4a4a142a",
   "metadata": {},
   "outputs": [],
   "source": [
    "import unidecode\n",
    "\n",
    "# Function to remove special characters\n",
    "# and store it in another variable\n",
    "def removeSpecialCharacter(s):\n",
    "    t = \"\"\n",
    "    for i in s:\n",
    "        if(i.isalpha()):\n",
    "            t+=i\n",
    "\n",
    "    return t\n",
    "\n",
    "def strip_string(s):\n",
    "    # force lower:\n",
    "    s = s.lower()\n",
    "    # unaccent string:\n",
    "    s = unidecode.unidecode(s)\n",
    "    # remove anything that isn't a letter and return\n",
    "    return removeSpecialCharacter(s)"
   ]
  },
  {
   "cell_type": "code",
   "execution_count": 21,
   "id": "28b17d96-50b8-4619-a464-ac8357d4b47a",
   "metadata": {},
   "outputs": [
    {
     "data": {
      "text/plain": [
       "'https://www.azlyrics.com/lyrics/eltonjohn/holdmecloser.html'"
      ]
     },
     "execution_count": 21,
     "metadata": {},
     "output_type": "execute_result"
    }
   ],
   "source": [
    "first_artist = foo[2][1].split('and')[0]\n",
    "first_artist = strip_string(first_artist)\n",
    "song = foo[2][0]\n",
    "song = strip_string(song)\n",
    "\n",
    "lyric_url = \"https://www.azlyrics.com/lyrics/\" + first_artist + \"/\" + song + \".html\"\n",
    "lyric_url"
   ]
  },
  {
   "cell_type": "code",
   "execution_count": 22,
   "id": "d6194537-5b27-4da9-9ec8-9d6b8609beb7",
   "metadata": {},
   "outputs": [
    {
     "data": {
      "text/plain": [
       "'https://www.azlyrics.com/lyrics/eltonjohn/holdmecloser.html'"
      ]
     },
     "execution_count": 22,
     "metadata": {},
     "output_type": "execute_result"
    }
   ],
   "source": [
    "lyric_url"
   ]
  },
  {
   "cell_type": "code",
   "execution_count": 23,
   "id": "7743898c-cd2c-466c-aa2c-bd3a165a0117",
   "metadata": {},
   "outputs": [],
   "source": [
    "# read page:\n",
    "read_pg = requests.get(lyric_url, headers=header)"
   ]
  },
  {
   "cell_type": "code",
   "execution_count": 24,
   "id": "80c9314c-f239-4e90-9af0-c9f97420cb0a",
   "metadata": {},
   "outputs": [],
   "source": [
    "soup = BeautifulSoup(read_pg.text, \"html.parser\")"
   ]
  },
  {
   "cell_type": "code",
   "execution_count": 25,
   "id": "9b25a14d-9b99-4350-8841-93a35b85550a",
   "metadata": {},
   "outputs": [],
   "source": [
    "## Dump in file for fun:\n",
    "html = soup.prettify(\"utf-8\")\n",
    "with open(\"soupDump2.html\", \"wb\") as file:\n",
    "    file.write(html)"
   ]
  },
  {
   "cell_type": "code",
   "execution_count": null,
   "id": "fa1e784b-1b3c-44e6-9c77-f9a32074f35c",
   "metadata": {},
   "outputs": [],
   "source": []
  },
  {
   "cell_type": "code",
   "execution_count": null,
   "id": "82958776-6396-4401-b435-68a051742722",
   "metadata": {},
   "outputs": [],
   "source": []
  },
  {
   "cell_type": "code",
   "execution_count": null,
   "id": "c8417c6b-e444-44f2-aee5-21dc5cd6c54a",
   "metadata": {},
   "outputs": [],
   "source": []
  },
  {
   "cell_type": "code",
   "execution_count": null,
   "id": "cd8f60e2-32d1-4470-88f5-00a50b3ccab7",
   "metadata": {},
   "outputs": [],
   "source": []
  },
  {
   "cell_type": "markdown",
   "id": "03ff6490-e956-496a-a487-c8f6f911cb60",
   "metadata": {},
   "source": [
    "Appendix"
   ]
  },
  {
   "cell_type": "code",
   "execution_count": 24,
   "id": "f0d27833-a528-45fb-aed0-05bcc465ca5e",
   "metadata": {},
   "outputs": [],
   "source": [
    "tr = s.find(\"tbody\").findAll(\"tr\")[2]"
   ]
  },
  {
   "cell_type": "code",
   "execution_count": 72,
   "id": "08afb556-e4d0-424d-809e-7feaaabb4416",
   "metadata": {
    "tags": []
   },
   "outputs": [
    {
     "data": {
      "text/plain": [
       "'3'"
      ]
     },
     "execution_count": 72,
     "metadata": {},
     "output_type": "execute_result"
    }
   ],
   "source": [
    "#Song position!\n",
    "tr.find('span', {\"itemprop\": \"position\"}).text"
   ]
  },
  {
   "cell_type": "code",
   "execution_count": 73,
   "id": "fe461a74-6107-4bd3-a734-aa85d87d8ab0",
   "metadata": {},
   "outputs": [
    {
     "data": {
      "text/plain": [
       "'\\n\\n                        (new)\\n                    '"
      ]
     },
     "execution_count": 73,
     "metadata": {},
     "output_type": "execute_result"
    }
   ],
   "source": [
    "# Previous\n",
    "tr.find('span', {'class':'Sub subStatsPrev'}).text"
   ]
  },
  {
   "cell_type": "code",
   "execution_count": 74,
   "id": "d7e6c720-f618-4960-9051-a48ad50108c2",
   "metadata": {},
   "outputs": [
    {
     "data": {
      "text/plain": [
       "'Hold Me Closer'"
      ]
     },
     "execution_count": 74,
     "metadata": {},
     "output_type": "execute_result"
    }
   ],
   "source": [
    "# Title\n",
    "tr.find('span', {'itemprop':'name'}).text"
   ]
  },
  {
   "cell_type": "code",
   "execution_count": 75,
   "id": "7661234b-f332-43c4-a225-ded71288fb37",
   "metadata": {},
   "outputs": [
    {
     "data": {
      "text/plain": [
       "'Elton John and Britney Spears'"
      ]
     },
     "execution_count": 75,
     "metadata": {},
     "output_type": "execute_result"
    }
   ],
   "source": [
    "# artist(s)\n",
    "artist = \"\"\n",
    "first = True\n",
    "for artists in tr.findAll('span', {'itemprop':'byArtist'}):\n",
    "    if first:\n",
    "        artist += artists.find('span', {'itemprop':'name'}).text\n",
    "        first = False\n",
    "    else:\n",
    "        artist += \" and \" + artists.find('span', {'itemprop':'name'}).text\n",
    "artist"
   ]
  },
  {
   "cell_type": "code",
   "execution_count": null,
   "id": "3cd261d7-8f2e-43f1-909d-ab0e3adf6a1c",
   "metadata": {},
   "outputs": [],
   "source": []
  },
  {
   "cell_type": "code",
   "execution_count": null,
   "id": "8cb3bffd-89f7-4e1f-8440-0c8024f894c6",
   "metadata": {},
   "outputs": [],
   "source": []
  },
  {
   "cell_type": "code",
   "execution_count": null,
   "id": "a1be844e-52ac-49cb-8d46-b7a0165d29b3",
   "metadata": {},
   "outputs": [],
   "source": []
  }
 ],
 "metadata": {
  "kernelspec": {
   "display_name": "Python 3 (ipykernel)",
   "language": "python",
   "name": "python3"
  },
  "language_info": {
   "codemirror_mode": {
    "name": "ipython",
    "version": 3
   },
   "file_extension": ".py",
   "mimetype": "text/x-python",
   "name": "python",
   "nbconvert_exporter": "python",
   "pygments_lexer": "ipython3",
   "version": "3.10.4"
  }
 },
 "nbformat": 4,
 "nbformat_minor": 5
}
