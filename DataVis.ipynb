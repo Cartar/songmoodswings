{
 "cells": [
  {
   "cell_type": "markdown",
   "id": "30ba7171-5681-4c59-bde6-4de97e7e2ed4",
   "metadata": {},
   "source": [
    "# With data saved, it's time to start making week-by-week comparisons!"
   ]
  },
  {
   "cell_type": "code",
   "execution_count": 2,
   "id": "2f920129-ac00-4a57-a070-ec096571f944",
   "metadata": {},
   "outputs": [
    {
     "name": "stderr",
     "output_type": "stream",
     "text": [
      "/opt/anaconda3/envs/songmoodswings/lib/python3.9/site-packages/tqdm/auto.py:22: TqdmWarning: IProgress not found. Please update jupyter and ipywidgets. See https://ipywidgets.readthedocs.io/en/stable/user_install.html\n",
      "  from .autonotebook import tqdm as notebook_tqdm\n"
     ]
    },
    {
     "name": "stdout",
     "output_type": "stream",
     "text": [
      "2022-10-24 11:31:08,466 loading file /Users/williamcartar/.flair/models/sentiment-en-mix-distillbert_4.pt\n"
     ]
    }
   ],
   "source": [
    "# Step 1: define start end end period:\n",
    "from datetime import datetime\n",
    "from utils import create_date_list\n",
    "\n",
    "startdate = datetime.strptime('20180101', '%Y%m%d')\n",
    "enddate = datetime.strptime('20221001', '%Y%m%d') "
   ]
  },
  {
   "cell_type": "code",
   "execution_count": 3,
   "id": "0f8da9cb-77ae-4070-8484-5f3a5c12cd66",
   "metadata": {},
   "outputs": [],
   "source": [
    "datelist = create_date_list(startdate, enddate)"
   ]
  },
  {
   "cell_type": "markdown",
   "id": "8c20f2c9-46d5-4ef2-a982-eedc16264663",
   "metadata": {},
   "source": [
    "## With the date list, join top songs with their sentiment\n",
    "NOTE: cannot start with the first week of the dataset when using the weekly diff score. I.e., 201801 for Canada."
   ]
  },
  {
   "cell_type": "code",
   "execution_count": 4,
   "id": "a9903a5a-bfcf-4724-b5e2-e80449b99e82",
   "metadata": {},
   "outputs": [],
   "source": [
    "import sqlite3\n",
    "conn = sqlite3.connect('localDev.db')"
   ]
  },
  {
   "cell_type": "code",
   "execution_count": 5,
   "id": "063757b3-0769-4f64-81ce-ef2a2346cbb2",
   "metadata": {},
   "outputs": [],
   "source": [
    "cur = conn.cursor()"
   ]
  },
  {
   "cell_type": "code",
   "execution_count": 6,
   "id": "ff219997-112b-41ae-8e58-8ad08dc38f5f",
   "metadata": {},
   "outputs": [
    {
     "data": {
      "text/plain": [
       "[('edsheeran/perfect', 1, 0, 0.26143874288814656, '01', '2018'),\n",
       " ('camilacabello/havana', 2, 2, 0.2091764190121077, '01', '2018')]"
      ]
     },
     "execution_count": 6,
     "metadata": {},
     "output_type": "execute_result"
    }
   ],
   "source": [
    "# base query:\n",
    "cur.execute(f\"\"\"\n",
    "    SELECT a.song_index, a.position, a.prev_position, b.combined, a.week, a.year\n",
    "    FROM canada_chart AS a\n",
    "    LEFT JOIN (\n",
    "        SELECT song_index, combined\n",
    "        FROM song_sentiment\n",
    "        WHERE lyrics != '!1'\n",
    "    ) as b\n",
    "    ON a.song_index = b.song_index\n",
    "    WHERE a.year || a.week >= '{datelist[0][0] + datelist[0][1]}'\n",
    "    AND a.year || a.week <= '{datelist[-1][0] + datelist[-1][1]}'\n",
    "    limit 2;\n",
    "\"\"\")\n",
    "list(cur)"
   ]
  },
  {
   "cell_type": "code",
   "execution_count": 232,
   "id": "1625e1c1-786e-4f06-9c63-8afe224e7b9d",
   "metadata": {},
   "outputs": [],
   "source": [
    "# Query for visual:\n",
    "import pandas as pd\n",
    "df = pd.read_sql(f\"\"\"\n",
    "    SELECT \n",
    "        year_week,\n",
    "        SUM(combined * weekly_diff) AS weekly_diff_score,\n",
    "        SUM(combined * inverted_rank) AS rank_score,\n",
    "        SUM((combined * inverted_rank) * 2 / 3 + (combined * inverted_prev_rank) / 3) AS combined_rank_score,\n",
    "        SUM(step) AS step\n",
    "    FROM (\n",
    "        SELECT \n",
    "            a.year || a.week AS year_week,\n",
    "            101 - a.position AS inverted_rank,\n",
    "            CASE WHEN a.prev_position > 0 THEN 101 - a.prev_position ELSE 0 END AS inverted_prev_rank,\n",
    "            101 - a.position - (CASE WHEN a.prev_position > 0 THEN 101 - a.prev_position ELSE 0 END) AS weekly_diff,\n",
    "            CASE WHEN b.combined > 0 THEN 1 WHEN b.combined < 0 THEN -1 WHEN b.combined = 0 THEN 0 END AS step,\n",
    "            b.combined\n",
    "        FROM canada_chart AS a\n",
    "        JOIN ( -- NOTE: only take songs with sentiment score\n",
    "            SELECT song_index, combined\n",
    "            FROM song_sentiment\n",
    "            WHERE lyrics != '!1'\n",
    "        ) as b\n",
    "        ON a.song_index = b.song_index\n",
    "        WHERE a.year || a.week > '{datelist[0][0] + datelist[0][1]}'\n",
    "        AND a.year || a.week <= '{datelist[-1][0] + datelist[-1][1]}'\n",
    "    )\n",
    "    GROUP BY 1\n",
    "\"\"\", conn)"
   ]
  },
  {
   "cell_type": "code",
   "execution_count": 233,
   "id": "5566db6b-96eb-4e23-8552-a1cd37ba3963",
   "metadata": {},
   "outputs": [],
   "source": [
    "# Must convert year_week back to a datetime value for plotting:\n",
    "from datetime import datetime\n",
    "def datetime_from_yrwk(s):\n",
    "    return datetime.strptime(s + '-1', '%Y%W-%w')"
   ]
  },
  {
   "cell_type": "code",
   "execution_count": 234,
   "id": "bb50a1a9-ca08-4cde-8ec6-320c7e89e89d",
   "metadata": {},
   "outputs": [],
   "source": [
    "df['date'] = df.apply (lambda row: datetime_from_yrwk(row.year_week), axis=1)"
   ]
  },
  {
   "cell_type": "code",
   "execution_count": 235,
   "id": "ea6c4d1c-e6a6-4f53-9b51-8162aed2b4f4",
   "metadata": {},
   "outputs": [],
   "source": [
    "# Finally, print!# Let's generate a line of best fit:\n",
    "from bokeh.plotting import figure\n",
    "import numpy as np\n",
    "\n",
    "y_data = 'step'\n",
    "polydeg = 32"
   ]
  },
  {
   "cell_type": "code",
   "execution_count": 236,
   "id": "bcb0d24e-3c89-4de5-8734-f62e097341e6",
   "metadata": {},
   "outputs": [],
   "source": [
    "# For whatever reason, the fit works much better like this:\n",
    "ind = df.index.to_numpy()"
   ]
  },
  {
   "cell_type": "code",
   "execution_count": 237,
   "id": "38c1c609-fe21-42ee-bfcd-31cf63e72fcc",
   "metadata": {},
   "outputs": [
    {
     "name": "stderr",
     "output_type": "stream",
     "text": [
      "/opt/anaconda3/envs/songmoodswings/lib/python3.9/site-packages/IPython/core/interactiveshell.py:3378: RankWarning: Polyfit may be poorly conditioned\n",
      "  exec(code_obj, self.user_global_ns, self.user_ns)\n"
     ]
    }
   ],
   "source": [
    "model = np.poly1d(np.polyfit(\n",
    "    ind,\n",
    "    df[y_data],\n",
    "    polydeg\n",
    "))\n",
    "x_fit = np.linspace(ind.min(), ind.max(), 100)"
   ]
  },
  {
   "cell_type": "code",
   "execution_count": 238,
   "id": "930ed75d-5afb-46b9-a835-9336c5520701",
   "metadata": {},
   "outputs": [],
   "source": [
    "# create a plot and renderer with ColumnDataSource data\n",
    "import matplotlib.dates as mdates\n",
    "# converts ind back to the correct value!\n",
    "minimum = mdates.date2num(df[x_data]).min()\n",
    "refit_x = mdates.num2date(ind * 7 + minimum)\n",
    "\n",
    "p = figure()\n",
    "p.scatter(refit_x, df[y_data])\n",
    "p.line(refit_x, model(ind))\n",
    "\n",
    "# x-axis work:\n",
    "from math import pi\n",
    "from datetime import datetime as dt\n",
    "from bokeh.io import output_file\n",
    "from bokeh.models import DatetimeTickFormatter\n",
    "from bokeh.plotting import figure\n",
    "p.xaxis.formatter=DatetimeTickFormatter(\n",
    "        hours=[\"%d %B %Y\"],\n",
    "        days=[\"%d %B %Y\"],\n",
    "        months=[\"%d %B %Y\"],\n",
    "        years=[\"%d %B %Y\"],\n",
    "    )\n",
    "p.xaxis.major_label_orientation = pi/4\n",
    "show(p)"
   ]
  },
  {
   "cell_type": "code",
   "execution_count": null,
   "id": "008d6024-7ca3-49f5-96fc-002445fb3988",
   "metadata": {},
   "outputs": [],
   "source": []
  },
  {
   "cell_type": "markdown",
   "id": "2a2db4ed-f80c-4673-9dbc-530cbcb157dc",
   "metadata": {},
   "source": [
    "### Particular week's data:"
   ]
  },
  {
   "cell_type": "code",
   "execution_count": 241,
   "id": "de5b27a3-20e2-457d-814a-4309e44a6b06",
   "metadata": {},
   "outputs": [],
   "source": [
    "# base query:\n",
    "import pandas as pd\n",
    "df2 = pd.read_sql(f\"\"\"\n",
    "    SELECT\n",
    "        a.song\n",
    "        , a.artist\n",
    "        , a.position\n",
    "        , a.prev_position\n",
    "        , b.combined\n",
    "        , a.week\n",
    "        , a.year\n",
    "    FROM canada_chart AS a\n",
    "    LEFT JOIN (\n",
    "        SELECT song_index, combined\n",
    "        FROM song_sentiment\n",
    "        WHERE lyrics != '!1'\n",
    "    ) as b\n",
    "    ON a.song_index = b.song_index\n",
    "    WHERE a.year || a.week > '{datelist[0][0] + datelist[0][1]}'\n",
    "    AND a.year || a.week <= '{datelist[-1][0] + datelist[-1][1]}'\n",
    "    limit 2;\n",
    "\"\"\", conn)"
   ]
  },
  {
   "cell_type": "code",
   "execution_count": 242,
   "id": "4eda326a-9bee-486d-9945-1523aa353dd9",
   "metadata": {},
   "outputs": [
    {
     "data": {
      "text/html": [
       "<div>\n",
       "<style scoped>\n",
       "    .dataframe tbody tr th:only-of-type {\n",
       "        vertical-align: middle;\n",
       "    }\n",
       "\n",
       "    .dataframe tbody tr th {\n",
       "        vertical-align: top;\n",
       "    }\n",
       "\n",
       "    .dataframe thead th {\n",
       "        text-align: right;\n",
       "    }\n",
       "</style>\n",
       "<table border=\"1\" class=\"dataframe\">\n",
       "  <thead>\n",
       "    <tr style=\"text-align: right;\">\n",
       "      <th></th>\n",
       "      <th>song</th>\n",
       "      <th>artist</th>\n",
       "      <th>position</th>\n",
       "      <th>prev_position</th>\n",
       "      <th>combined</th>\n",
       "      <th>week</th>\n",
       "      <th>year</th>\n",
       "    </tr>\n",
       "  </thead>\n",
       "  <tbody>\n",
       "    <tr>\n",
       "      <th>0</th>\n",
       "      <td>Perfect Duet</td>\n",
       "      <td>Ed Sheeran and Beyoncé</td>\n",
       "      <td>1</td>\n",
       "      <td>0</td>\n",
       "      <td>NaN</td>\n",
       "      <td>02</td>\n",
       "      <td>2018</td>\n",
       "    </tr>\n",
       "    <tr>\n",
       "      <th>1</th>\n",
       "      <td>Havana</td>\n",
       "      <td>Camila Cabello and Young Thug</td>\n",
       "      <td>2</td>\n",
       "      <td>2</td>\n",
       "      <td>0.209176</td>\n",
       "      <td>02</td>\n",
       "      <td>2018</td>\n",
       "    </tr>\n",
       "  </tbody>\n",
       "</table>\n",
       "</div>"
      ],
      "text/plain": [
       "           song                         artist  position  prev_position  \\\n",
       "0  Perfect Duet         Ed Sheeran and Beyoncé         1              0   \n",
       "1        Havana  Camila Cabello and Young Thug         2              2   \n",
       "\n",
       "   combined week  year  \n",
       "0       NaN   02  2018  \n",
       "1  0.209176   02  2018  "
      ]
     },
     "execution_count": 242,
     "metadata": {},
     "output_type": "execute_result"
    }
   ],
   "source": [
    "df2.head()"
   ]
  },
  {
   "cell_type": "code",
   "execution_count": null,
   "id": "30c91f56-cda7-468d-8896-7b9cec8bc5b3",
   "metadata": {},
   "outputs": [],
   "source": []
  },
  {
   "cell_type": "code",
   "execution_count": null,
   "id": "41416b65-79f8-469a-b050-8ef2170050b6",
   "metadata": {},
   "outputs": [],
   "source": []
  },
  {
   "cell_type": "code",
   "execution_count": null,
   "id": "d70c912c-daa4-4a99-bb45-65ac3fe26e31",
   "metadata": {},
   "outputs": [],
   "source": []
  },
  {
   "cell_type": "code",
   "execution_count": null,
   "id": "ba75baa9-c570-4223-9323-3b81e4e7d163",
   "metadata": {},
   "outputs": [],
   "source": []
  },
  {
   "cell_type": "markdown",
   "id": "25d3ef57-6d89-47e4-bcd9-896a78751842",
   "metadata": {},
   "source": [
    "## Appendix:"
   ]
  },
  {
   "cell_type": "code",
   "execution_count": 200,
   "id": "706ee1a5-e61a-4d47-9e33-d8b0a8b399a3",
   "metadata": {},
   "outputs": [],
   "source": [
    "import matplotlib.dates as mdates\n",
    "modelx = mdates.date2num(df[x_data])# - minimum\n",
    "model = np.poly1d(np.polyfit(\n",
    "    modelx,\n",
    "    df[y_data],\n",
    "    polydeg\n",
    "))\n",
    "x_fit = np.linspace(minimum, maximum, 100)"
   ]
  },
  {
   "cell_type": "code",
   "execution_count": 201,
   "id": "7449d42c-d49d-4fea-9140-7a9e219c1222",
   "metadata": {},
   "outputs": [
    {
     "name": "stderr",
     "output_type": "stream",
     "text": [
      "BokehUserWarning: ColumnDataSource's columns must be of the same length. Current lengths: ('x', 100), ('y', 247)\n"
     ]
    },
    {
     "data": {
      "text/html": [
       "<div style=\"display: table;\"><div style=\"display: table-row;\"><div style=\"display: table-cell;\"><b title=\"bokeh.models.renderers.GlyphRenderer\">GlyphRenderer</b>(</div><div style=\"display: table-cell;\">id&nbsp;=&nbsp;'8430', <span id=\"8433\" style=\"cursor: pointer;\">&hellip;)</span></div></div><div class=\"8432\" style=\"display: none;\"><div style=\"display: table-cell;\"></div><div style=\"display: table-cell;\">coordinates&nbsp;=&nbsp;None,</div></div><div class=\"8432\" style=\"display: none;\"><div style=\"display: table-cell;\"></div><div style=\"display: table-cell;\">data_source&nbsp;=&nbsp;ColumnDataSource(id='8426', ...),</div></div><div class=\"8432\" style=\"display: none;\"><div style=\"display: table-cell;\"></div><div style=\"display: table-cell;\">glyph&nbsp;=&nbsp;Line(id='8427', ...),</div></div><div class=\"8432\" style=\"display: none;\"><div style=\"display: table-cell;\"></div><div style=\"display: table-cell;\">group&nbsp;=&nbsp;None,</div></div><div class=\"8432\" style=\"display: none;\"><div style=\"display: table-cell;\"></div><div style=\"display: table-cell;\">hover_glyph&nbsp;=&nbsp;None,</div></div><div class=\"8432\" style=\"display: none;\"><div style=\"display: table-cell;\"></div><div style=\"display: table-cell;\">js_event_callbacks&nbsp;=&nbsp;{},</div></div><div class=\"8432\" style=\"display: none;\"><div style=\"display: table-cell;\"></div><div style=\"display: table-cell;\">js_property_callbacks&nbsp;=&nbsp;{},</div></div><div class=\"8432\" style=\"display: none;\"><div style=\"display: table-cell;\"></div><div style=\"display: table-cell;\">level&nbsp;=&nbsp;'glyph',</div></div><div class=\"8432\" style=\"display: none;\"><div style=\"display: table-cell;\"></div><div style=\"display: table-cell;\">muted&nbsp;=&nbsp;False,</div></div><div class=\"8432\" style=\"display: none;\"><div style=\"display: table-cell;\"></div><div style=\"display: table-cell;\">muted_glyph&nbsp;=&nbsp;Line(id='8429', ...),</div></div><div class=\"8432\" style=\"display: none;\"><div style=\"display: table-cell;\"></div><div style=\"display: table-cell;\">name&nbsp;=&nbsp;None,</div></div><div class=\"8432\" style=\"display: none;\"><div style=\"display: table-cell;\"></div><div style=\"display: table-cell;\">nonselection_glyph&nbsp;=&nbsp;Line(id='8428', ...),</div></div><div class=\"8432\" style=\"display: none;\"><div style=\"display: table-cell;\"></div><div style=\"display: table-cell;\">selection_glyph&nbsp;=&nbsp;'auto',</div></div><div class=\"8432\" style=\"display: none;\"><div style=\"display: table-cell;\"></div><div style=\"display: table-cell;\">subscribed_events&nbsp;=&nbsp;[],</div></div><div class=\"8432\" style=\"display: none;\"><div style=\"display: table-cell;\"></div><div style=\"display: table-cell;\">syncable&nbsp;=&nbsp;True,</div></div><div class=\"8432\" style=\"display: none;\"><div style=\"display: table-cell;\"></div><div style=\"display: table-cell;\">tags&nbsp;=&nbsp;[],</div></div><div class=\"8432\" style=\"display: none;\"><div style=\"display: table-cell;\"></div><div style=\"display: table-cell;\">view&nbsp;=&nbsp;CDSView(id='8431', ...),</div></div><div class=\"8432\" style=\"display: none;\"><div style=\"display: table-cell;\"></div><div style=\"display: table-cell;\">visible&nbsp;=&nbsp;True,</div></div><div class=\"8432\" style=\"display: none;\"><div style=\"display: table-cell;\"></div><div style=\"display: table-cell;\">x_range_name&nbsp;=&nbsp;'default',</div></div><div class=\"8432\" style=\"display: none;\"><div style=\"display: table-cell;\"></div><div style=\"display: table-cell;\">y_range_name&nbsp;=&nbsp;'default')</div></div></div>\n",
       "<script>\n",
       "(function() {\n",
       "  let expanded = false;\n",
       "  const ellipsis = document.getElementById(\"8433\");\n",
       "  ellipsis.addEventListener(\"click\", function() {\n",
       "    const rows = document.getElementsByClassName(\"8432\");\n",
       "    for (let i = 0; i < rows.length; i++) {\n",
       "      const el = rows[i];\n",
       "      el.style.display = expanded ? \"none\" : \"table-row\";\n",
       "    }\n",
       "    ellipsis.innerHTML = expanded ? \"&hellip;)\" : \"&lsaquo;&lsaquo;&lsaquo;\";\n",
       "    expanded = !expanded;\n",
       "  });\n",
       "})();\n",
       "</script>\n"
      ],
      "text/plain": [
       "GlyphRenderer(id='8430', ...)"
      ]
     },
     "execution_count": 201,
     "metadata": {},
     "output_type": "execute_result"
    }
   ],
   "source": [
    "# create a plot and renderer with ColumnDataSource data\n",
    "p = figure()\n",
    "p.scatter(df[x_data],df[y_data])\n",
    "p.line(mdates.num2date(x_fit), model(modelx))\n"
   ]
  },
  {
   "cell_type": "code",
   "execution_count": 206,
   "id": "195f5c28-6bc2-4bae-96a3-dc9d2b30c477",
   "metadata": {},
   "outputs": [],
   "source": [
    "# x-axis work:\n",
    "from math import pi\n",
    "from datetime import datetime as dt\n",
    "from bokeh.io import output_file\n",
    "from bokeh.models import DatetimeTickFormatter\n",
    "from bokeh.plotting import figure\n",
    "p.xaxis.formatter=DatetimeTickFormatter(\n",
    "        hours=[\"%d %B %Y\"],\n",
    "        days=[\"%d %B %Y\"],\n",
    "        months=[\"%d %B %Y\"],\n",
    "        years=[\"%d %B %Y\"],\n",
    "    )\n",
    "p.xaxis.major_label_orientation = pi/4\n",
    "show(p)"
   ]
  },
  {
   "cell_type": "code",
   "execution_count": null,
   "id": "cb36894a-e0a3-4e51-8baf-c4b17c79e34f",
   "metadata": {},
   "outputs": [],
   "source": []
  },
  {
   "cell_type": "code",
   "execution_count": 19,
   "id": "c8800241-409d-43f3-87ba-e4c062f41645",
   "metadata": {},
   "outputs": [
    {
     "data": {
      "text/plain": [
       "[('2018', '01', 1, 0, 'Perfect', 'Ed Sheeran', 'edsheeran/perfect'),\n",
       " ('2018',\n",
       "  '01',\n",
       "  2,\n",
       "  2,\n",
       "  'Havana',\n",
       "  'Camila Cabello and Young Thug',\n",
       "  'camilacabello/havana')]"
      ]
     },
     "execution_count": 19,
     "metadata": {},
     "output_type": "execute_result"
    }
   ],
   "source": [
    "cur.execute(\"SELECT * FROM canada_chart limit 2;\")\n",
    "list(cur)"
   ]
  },
  {
   "cell_type": "code",
   "execution_count": 17,
   "id": "8a02ec01-5c1b-47e0-8965-7f6777e93a6f",
   "metadata": {},
   "outputs": [
    {
     "data": {
      "text/plain": [
       "[('cardib/bodakyellowmoneymoves', '!1', 0.0, 0.0, 0.0),\n",
       " ('cardib/bartiercardi', '!1', 0.0, 0.0, 0.0)]"
      ]
     },
     "execution_count": 17,
     "metadata": {},
     "output_type": "execute_result"
    }
   ],
   "source": [
    "cur.execute(\"SELECT * FROM song_sentiment WHERE combined = 0 limit 2;\")\n",
    "list(cur)"
   ]
  },
  {
   "cell_type": "code",
   "execution_count": 20,
   "id": "36c0c281-a556-4218-8df4-af6ff00160ce",
   "metadata": {},
   "outputs": [
    {
     "data": {
      "text/plain": [
       "[('edsheeran/perfect', 1, 0, 0.26143874288814656, '01', '2018'),\n",
       " ('edsheeran/perfect', 1, 0, 0.26143874288814656, '03', '2018')]"
      ]
     },
     "execution_count": 20,
     "metadata": {},
     "output_type": "execute_result"
    }
   ],
   "source": [
    "cur.execute(\"\"\"\n",
    "    SELECT a.song_index, a.position, a.prev_position, b.combined, a.week, a.year\n",
    "    FROM canada_chart AS a\n",
    "    LEFT JOIN (\n",
    "        SELECT song_index, combined\n",
    "        FROM song_sentiment\n",
    "        WHERE lyrics != '!1'\n",
    "    ) as b\n",
    "    ON a.song_index = b.song_index\n",
    "    limit 2;\n",
    "\"\"\")\n",
    "list(cur)"
   ]
  },
  {
   "cell_type": "code",
   "execution_count": null,
   "id": "25475971-fd9c-4999-b75a-65c20c123bd3",
   "metadata": {},
   "outputs": [],
   "source": []
  },
  {
   "cell_type": "code",
   "execution_count": null,
   "id": "acf57d41-dbed-4cf2-903b-dac3e46f3c0e",
   "metadata": {},
   "outputs": [],
   "source": []
  }
 ],
 "metadata": {
  "kernelspec": {
   "display_name": "Python 3 (ipykernel)",
   "language": "python",
   "name": "python3"
  },
  "language_info": {
   "codemirror_mode": {
    "name": "ipython",
    "version": 3
   },
   "file_extension": ".py",
   "mimetype": "text/x-python",
   "name": "python",
   "nbconvert_exporter": "python",
   "pygments_lexer": "ipython3",
   "version": "3.9.13"
  }
 },
 "nbformat": 4,
 "nbformat_minor": 5
}
