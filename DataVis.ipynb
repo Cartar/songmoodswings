{
 "cells": [
  {
   "cell_type": "markdown",
   "id": "30ba7171-5681-4c59-bde6-4de97e7e2ed4",
   "metadata": {},
   "source": [
    "# With data saved, it's time to start making week-by-week comparisons!"
   ]
  },
  {
   "cell_type": "code",
   "execution_count": 1,
   "id": "2f920129-ac00-4a57-a070-ec096571f944",
   "metadata": {},
   "outputs": [],
   "source": [
    "# Step 1: define start end end period:\n",
    "from datetime import datetime\n",
    "startdate = datetime.strptime('20180101', '%Y%m%d')\n",
    "enddate = datetime.strptime('20180201', '%Y%m%d') "
   ]
  },
  {
   "cell_type": "code",
   "execution_count": 2,
   "id": "984cc55a-2943-401c-b919-ba8c2b81a201",
   "metadata": {},
   "outputs": [
    {
     "name": "stderr",
     "output_type": "stream",
     "text": [
      "/opt/anaconda3/envs/songmoodswings/lib/python3.9/site-packages/tqdm/auto.py:22: TqdmWarning: IProgress not found. Please update jupyter and ipywidgets. See https://ipywidgets.readthedocs.io/en/stable/user_install.html\n",
      "  from .autonotebook import tqdm as notebook_tqdm\n"
     ]
    },
    {
     "name": "stdout",
     "output_type": "stream",
     "text": [
      "2022-10-21 15:36:25,812 loading file /Users/williamcartar/.flair/models/sentiment-en-mix-distillbert_4.pt\n"
     ]
    }
   ],
   "source": [
    "from utils import create_date_list"
   ]
  },
  {
   "cell_type": "code",
   "execution_count": 3,
   "id": "0f8da9cb-77ae-4070-8484-5f3a5c12cd66",
   "metadata": {},
   "outputs": [],
   "source": [
    "datelist = create_date_list(startdate, enddate)"
   ]
  },
  {
   "cell_type": "code",
   "execution_count": 4,
   "id": "904c9f5e-8cbd-4171-be87-c52f9c94bad0",
   "metadata": {},
   "outputs": [
    {
     "data": {
      "text/plain": [
       "[('2018', '01'),\n",
       " ('2018', '02'),\n",
       " ('2018', '03'),\n",
       " ('2018', '04'),\n",
       " ('2018', '05')]"
      ]
     },
     "execution_count": 4,
     "metadata": {},
     "output_type": "execute_result"
    }
   ],
   "source": [
    "datelist"
   ]
  },
  {
   "cell_type": "markdown",
   "id": "8c20f2c9-46d5-4ef2-a982-eedc16264663",
   "metadata": {},
   "source": [
    "## With the date list, join top songs with their sentiment"
   ]
  },
  {
   "cell_type": "code",
   "execution_count": 5,
   "id": "a9903a5a-bfcf-4724-b5e2-e80449b99e82",
   "metadata": {},
   "outputs": [],
   "source": [
    "import sqlite3\n",
    "conn = sqlite3.connect('localDev.db')"
   ]
  },
  {
   "cell_type": "code",
   "execution_count": 6,
   "id": "063757b3-0769-4f64-81ce-ef2a2346cbb2",
   "metadata": {},
   "outputs": [],
   "source": [
    "cur = conn.cursor()"
   ]
  },
  {
   "cell_type": "code",
   "execution_count": 19,
   "id": "c8800241-409d-43f3-87ba-e4c062f41645",
   "metadata": {},
   "outputs": [
    {
     "data": {
      "text/plain": [
       "[('2018', '01', 1, 0, 'Perfect', 'Ed Sheeran', 'edsheeran/perfect'),\n",
       " ('2018',\n",
       "  '01',\n",
       "  2,\n",
       "  2,\n",
       "  'Havana',\n",
       "  'Camila Cabello and Young Thug',\n",
       "  'camilacabello/havana')]"
      ]
     },
     "execution_count": 19,
     "metadata": {},
     "output_type": "execute_result"
    }
   ],
   "source": [
    "cur.execute(\"SELECT * FROM canada_chart limit 2;\")\n",
    "list(cur)"
   ]
  },
  {
   "cell_type": "code",
   "execution_count": 17,
   "id": "8a02ec01-5c1b-47e0-8965-7f6777e93a6f",
   "metadata": {},
   "outputs": [
    {
     "data": {
      "text/plain": [
       "[('cardib/bodakyellowmoneymoves', '!1', 0.0, 0.0, 0.0),\n",
       " ('cardib/bartiercardi', '!1', 0.0, 0.0, 0.0)]"
      ]
     },
     "execution_count": 17,
     "metadata": {},
     "output_type": "execute_result"
    }
   ],
   "source": [
    "cur.execute(\"SELECT * FROM song_sentiment WHERE combined = 0 limit 2;\")\n",
    "list(cur)"
   ]
  },
  {
   "cell_type": "code",
   "execution_count": 20,
   "id": "36c0c281-a556-4218-8df4-af6ff00160ce",
   "metadata": {},
   "outputs": [
    {
     "data": {
      "text/plain": [
       "[('edsheeran/perfect', 1, 0, 0.26143874288814656, '01', '2018'),\n",
       " ('edsheeran/perfect', 1, 0, 0.26143874288814656, '03', '2018')]"
      ]
     },
     "execution_count": 20,
     "metadata": {},
     "output_type": "execute_result"
    }
   ],
   "source": [
    "cur.execute(\"\"\"\n",
    "    SELECT a.song_index, a.position, a.prev_position, b.combined, a.week, a.year\n",
    "    FROM canada_chart AS a\n",
    "    JOIN (\n",
    "        SELECT song_index, combined\n",
    "        FROM song_sentiment\n",
    "        WHERE lyrics != '!1'\n",
    "    ) as b\n",
    "    ON a.song_index = b.song_index\n",
    "    limit 2;\n",
    "\"\"\")\n",
    "list(cur)"
   ]
  },
  {
   "cell_type": "code",
   "execution_count": null,
   "id": "25475971-fd9c-4999-b75a-65c20c123bd3",
   "metadata": {},
   "outputs": [],
   "source": []
  }
 ],
 "metadata": {
  "kernelspec": {
   "display_name": "Python 3 (ipykernel)",
   "language": "python",
   "name": "python3"
  },
  "language_info": {
   "codemirror_mode": {
    "name": "ipython",
    "version": 3
   },
   "file_extension": ".py",
   "mimetype": "text/x-python",
   "name": "python",
   "nbconvert_exporter": "python",
   "pygments_lexer": "ipython3",
   "version": "3.9.13"
  }
 },
 "nbformat": 4,
 "nbformat_minor": 5
}
