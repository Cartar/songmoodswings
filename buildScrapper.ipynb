{
 "cells": [
  {
   "cell_type": "code",
   "execution_count": 1,
   "id": "b0290856-53bb-4223-a1a0-542691e6f6b5",
   "metadata": {},
   "outputs": [],
   "source": [
    "# Library/module imports\n",
    "import requests\n",
    "from bs4 import BeautifulSoup\n",
    "from datetime import datetime, timedelta\n",
    "from time import sleep\n",
    "import pandas as pd"
   ]
  },
  {
   "cell_type": "code",
   "execution_count": 2,
   "id": "f0e3a5e0-13fb-4cbf-8451-078243f1f1f9",
   "metadata": {},
   "outputs": [],
   "source": [
    "## Pretend to be a browser (https://stackoverflow.com/questions/43590153/http-error-403-forbidden-when-reading-html/43590290#43590290):\n",
    "HEADER = {\n",
    "  \"User-Agent\": \"Mozilla/5.0 (X11; Linux x86_64) AppleWebKit/537.36 (KHTML, like Gecko) Chrome/50.0.2661.75 Safari/537.36\",\n",
    "  \"X-Requested-With\": \"XMLHttpRequest\"\n",
    "}\n",
    "\n",
    "def acharts(year, week, url_base):\n",
    "    url = url_base + year + '/' + week\n",
    "    read_pg = requests.get(url, headers=HEADER)\n",
    "    \n",
    "    soup = BeautifulSoup(read_pg.text, \"html.parser\")\n",
    "    \n",
    "    return song_scrape(year, week, soup)"
   ]
  },
  {
   "cell_type": "code",
   "execution_count": 3,
   "id": "b147f3b9-8a81-4569-b1e5-c10d8ba07ff1",
   "metadata": {},
   "outputs": [],
   "source": [
    "import unidecode\n",
    "\n",
    "# Function to remove special characters\n",
    "# and store it in another variable\n",
    "def removeSpecialCharacter(s):\n",
    "    t = \"\"\n",
    "    for i in s:\n",
    "        if(i.isalpha()):\n",
    "            t+=i\n",
    "\n",
    "    return t\n",
    "\n",
    "def strip_string(s):\n",
    "    # force lower:\n",
    "    s = s.lower()\n",
    "    # unaccent string:\n",
    "    s = unidecode.unidecode(s)\n",
    "    # remove anything that isn't a letter and return\n",
    "    return removeSpecialCharacter(s)\n",
    "\n",
    "def generate_songindex(artists, song):\n",
    "    first_artist = artists.split('and')[0]\n",
    "    first_artist = strip_string(first_artist)\n",
    "    song = strip_string(song)\n",
    "    \n",
    "    return first_artist + \"/\" + song"
   ]
  },
  {
   "cell_type": "code",
   "execution_count": 4,
   "id": "65170869-d9f8-487b-93bf-2c29673a05d7",
   "metadata": {},
   "outputs": [],
   "source": [
    "def song_scrape(year, week, soup):\n",
    "    s = soup.findAll(\"table\")[0]\n",
    "    top100 = []\n",
    "\n",
    "    for tr in s.find(\"tbody\").findAll(\"tr\"):\n",
    "        # tr = s.find(\"tbody\").findAll(\"tr\")[2]\n",
    "\n",
    "        rank = tr.find('span', {\"itemprop\": \"position\"}).text\n",
    "        rankPrev = tr.find('span', {'class':'Sub subStatsPrev'}).text\n",
    "        rankPrev = rankPrev.replace(\"\\n\",\"\").replace(\" \",\"\").strip('(').strip(')')\n",
    "        title = tr.find('span', {'itemprop':'name'}).text\n",
    "\n",
    "        artist = \"\"\n",
    "        first = True\n",
    "        for artists in tr.findAll('span', {'itemprop':'byArtist'}):\n",
    "            if first:\n",
    "                artist += artists.find('span', {'itemprop':'name'}).text\n",
    "                first = False\n",
    "            else:\n",
    "                artist += \" and \" + artists.find('span', {'itemprop':'name'}).text\n",
    "        \n",
    "        songindex = generate_songindex(artist, title)\n",
    "        top100.append((year, week, rank, rankPrev, title, artist, songindex))\n",
    "    return top100"
   ]
  },
  {
   "cell_type": "code",
   "execution_count": 5,
   "id": "78b8a3cf-f11d-4e7a-a51f-1439816018a2",
   "metadata": {},
   "outputs": [],
   "source": [
    "## User defines year & week to search:\n",
    "year = '2020'\n",
    "week = '30'\n",
    "url_base = 'https://acharts.co/canada_singles_top_100/'\n",
    "top100 = acharts(year, week, url_base)"
   ]
  },
  {
   "cell_type": "markdown",
   "id": "8ac9dd86-20ca-4633-9317-2057a471ff47",
   "metadata": {},
   "source": [
    "## part 2: lyrics!\n",
    "Using: https://www.azlyrics.com/\n",
    "\n",
    "Format song to be: primary artist / title (nospaces, brackets, accents)\n",
    "\n",
    "NOTE, an alternative could be https://github.com/jasonqng/genius-lyrics-search"
   ]
  },
  {
   "cell_type": "code",
   "execution_count": 9,
   "id": "7e31199d-8863-452d-9519-1f3731e52e58",
   "metadata": {},
   "outputs": [],
   "source": [
    "def azlyrics(songindex):\n",
    "    lyric_url = \"https://www.azlyrics.com/lyrics/\" + songindex + \".html\"\n",
    "    \n",
    "    # read page:\n",
    "    read_pg = requests.get(lyric_url, headers=HEADER)\n",
    "    soup = BeautifulSoup(read_pg.text, \"html.parser\")\n",
    "\n",
    "    return lyric_url, soup\n",
    "\n",
    "def lyric_scrape(soup):\n",
    "    s = soup.find('div', {'class': 'col-xs-12 col-lg-8 text-center'})\n",
    "    # If lyrics are found, they'll be in the 6th div:\n",
    "    if s:\n",
    "        lyr = s.findAll('div')\n",
    "        lyrics = lyr[5].text\n",
    "    else:\n",
    "        lyrics = '!1'\n",
    "\n",
    "    return lyrics"
   ]
  },
  {
   "cell_type": "code",
   "execution_count": 8,
   "id": "e5389c15-c438-4c99-b243-c175259ee277",
   "metadata": {
    "collapsed": true,
    "jupyter": {
     "outputs_hidden": true
    },
    "tags": []
   },
   "outputs": [
    {
     "name": "stdout",
     "output_type": "stream",
     "text": [
      "\n",
      "\n",
      "I don't want a lot for Christmas\n",
      "There is just one thing I need\n",
      "I don't care about the presents\n",
      "Underneath the Christmas tree\n",
      "\n",
      "I just want you for my own\n",
      "More than you could ever know\n",
      "Make my wish come true\n",
      "All I want for Christmas is you, yeah\n",
      "\n",
      "I don't want a lot for Christmas\n",
      "There is just one thing I need\n",
      "And I don't care about the presents\n",
      "Underneath the Christmas tree\n",
      "\n",
      "I don't need to hang my stocking\n",
      "There upon the fireplace\n",
      "Santa Claus won't make me happy\n",
      "With a toy on Christmas Day\n",
      "\n",
      "I just want you for my own\n",
      "More than you could ever know\n",
      "Make my wish come true\n",
      "All I want for Christmas is you\n",
      "You, baby\n",
      "\n",
      "Oh, I won't ask for much this Christmas\n",
      "I won't even wish for snow\n",
      "And I'm just gonna keep on waiting\n",
      "Underneath the mistletoe\n",
      "\n",
      "I won't make a list and send it\n",
      "To the North Pole for Saint Nick\n",
      "I won't even stay awake to\n",
      "Hear those magic reindeer click\n",
      "\n",
      "'Cause I just want you here tonight\n",
      "Holding on to me so tight\n",
      "What more can I do?\n",
      "Baby, all I want for Christmas is you\n",
      "You, baby\n",
      "\n",
      "Oh, all the lights are shining so brightly everywhere\n",
      "And the sound of children's laughter fills the air\n",
      "\n",
      "And everyone is singing\n",
      "I hear those sleigh bells ringing\n",
      "Santa, won't you bring me the one I really need?\n",
      "Won't you please bring my baby to me?\n",
      "\n",
      "Oh, I don't want a lot for Christmas\n",
      "This is all I'm asking for\n",
      "I just wanna see my baby\n",
      "Standing right outside my door\n",
      "\n",
      "Oh, I just want you for my own\n",
      "More than you could ever know\n",
      "Make my wish come true\n",
      "Baby, all I want for Christmas is you\n",
      "You, baby\n",
      "\n",
      "All I want for Christmas is you, baby [repeat with ad-libs until fade]\n",
      "\n"
     ]
    }
   ],
   "source": [
    "url, soup = azlyrics(top100[0][-1])\n",
    "lyrics = lyric_scrape(soup)\n",
    "print(lyrics)"
   ]
  },
  {
   "cell_type": "code",
   "execution_count": 38,
   "id": "a29d680f-2704-4e39-bf34-2a71e484a8d8",
   "metadata": {},
   "outputs": [],
   "source": [
    "## Aside, save 100 songs for sentiment analysis comparison:\n",
    "import time\n",
    "from random import random\n",
    "\n",
    "columns = ['song_index', 'lyrics']\n",
    "\n",
    "lyrics = []\n",
    "\n",
    "for song in top100:\n",
    "    time.sleep(5 * (1 + random()))\n",
    "    _, soup = azlyrics(song[-1])\n",
    "    lyrics.append((song[-1], lyric_scrape(soup)))"
   ]
  },
  {
   "cell_type": "code",
   "execution_count": 39,
   "id": "128144a4-e4d1-4f43-b3d7-67eba71a6df6",
   "metadata": {},
   "outputs": [],
   "source": [
    "lyrics_df = pd.DataFrame(lyrics, columns=columns)"
   ]
  },
  {
   "cell_type": "code",
   "execution_count": 40,
   "id": "c199309f-9664-47d4-8e43-698ce0d468db",
   "metadata": {},
   "outputs": [
    {
     "data": {
      "text/plain": [
       "100"
      ]
     },
     "execution_count": 40,
     "metadata": {},
     "output_type": "execute_result"
    }
   ],
   "source": [
    "import sqlite3\n",
    "con = sqlite3.connect(\"test_data/sentiment_compare.db\")\n",
    "\n",
    "cur = con.cursor()\n",
    "cur.execute(f\"\"\"CREATE TABLE IF NOT EXISTS sentiment_compare (\n",
    "            song_index text,\n",
    "            lyrics text\n",
    ");\"\"\")\n",
    "con.commit()\n",
    "\n",
    "lyrics_df.to_sql(f\"sentiment_compare\", con, if_exists=\"replace\", index=False)"
   ]
  },
  {
   "cell_type": "code",
   "execution_count": 41,
   "id": "b3203fcf-cd1e-4379-b4d9-2a8000234d5e",
   "metadata": {},
   "outputs": [
    {
     "data": {
      "text/plain": [
       "100"
      ]
     },
     "execution_count": 41,
     "metadata": {},
     "output_type": "execute_result"
    }
   ],
   "source": [
    "len(list(cur.execute(f\"select * from sentiment_compare\")))"
   ]
  },
  {
   "cell_type": "code",
   "execution_count": null,
   "id": "b3b43f01-7c50-4784-95d8-8357dd24e9e5",
   "metadata": {},
   "outputs": [],
   "source": []
  },
  {
   "cell_type": "code",
   "execution_count": null,
   "id": "cd071491-4911-48d6-a5eb-2e87a0323388",
   "metadata": {},
   "outputs": [],
   "source": []
  },
  {
   "cell_type": "markdown",
   "id": "68d67b61-ef27-4b2a-b85e-f62852ab2f2f",
   "metadata": {},
   "source": [
    "### Part 3:\n",
    "Sentiment analysis"
   ]
  },
  {
   "cell_type": "code",
   "execution_count": null,
   "id": "aac82850-38ce-46d9-8a47-d662a03d60f5",
   "metadata": {},
   "outputs": [],
   "source": []
  },
  {
   "cell_type": "code",
   "execution_count": null,
   "id": "ed81d08c-fc68-434b-8af0-62651c61b3c8",
   "metadata": {},
   "outputs": [],
   "source": []
  },
  {
   "cell_type": "markdown",
   "id": "ca0013e1-3737-48fa-9ec0-8474fda0d78b",
   "metadata": {},
   "source": [
    "### Part 4:\n",
    "Loop through all songs for lyrics."
   ]
  },
  {
   "cell_type": "code",
   "execution_count": null,
   "id": "40ec8cbf-dedf-478a-b756-11325f770d7f",
   "metadata": {},
   "outputs": [],
   "source": [
    "sentiment"
   ]
  },
  {
   "cell_type": "code",
   "execution_count": null,
   "id": "08165390-790f-4abc-b3a0-94223826d0b3",
   "metadata": {},
   "outputs": [],
   "source": []
  },
  {
   "cell_type": "code",
   "execution_count": null,
   "id": "b159d278-8f9e-415c-96f3-ee2a92c8d126",
   "metadata": {},
   "outputs": [],
   "source": []
  },
  {
   "cell_type": "markdown",
   "id": "4bf6224f-8035-4f39-9c7a-0f075b76bd2c",
   "metadata": {},
   "source": [
    "## Part 4:\n",
    "Create a datastore for the information via SQLite"
   ]
  },
  {
   "cell_type": "code",
   "execution_count": 9,
   "id": "de47d69f-f618-4b68-943a-3755f61620bb",
   "metadata": {},
   "outputs": [],
   "source": [
    "columns = ['year', 'week', 'position', 'prev_position', 'song', 'artist', 'song_index']\n",
    "chart_df = pd.DataFrame(top100, columns=columns)"
   ]
  },
  {
   "cell_type": "code",
   "execution_count": 20,
   "id": "7dd2ad2b-693a-463a-9655-d3028b59e8bf",
   "metadata": {
    "tags": []
   },
   "outputs": [
    {
     "data": {
      "text/html": [
       "<div>\n",
       "<style scoped>\n",
       "    .dataframe tbody tr th:only-of-type {\n",
       "        vertical-align: middle;\n",
       "    }\n",
       "\n",
       "    .dataframe tbody tr th {\n",
       "        vertical-align: top;\n",
       "    }\n",
       "\n",
       "    .dataframe thead th {\n",
       "        text-align: right;\n",
       "    }\n",
       "</style>\n",
       "<table border=\"1\" class=\"dataframe\">\n",
       "  <thead>\n",
       "    <tr style=\"text-align: right;\">\n",
       "      <th></th>\n",
       "      <th>year</th>\n",
       "      <th>week</th>\n",
       "      <th>position</th>\n",
       "      <th>prev_position</th>\n",
       "      <th>song</th>\n",
       "      <th>artist</th>\n",
       "      <th>song_index</th>\n",
       "    </tr>\n",
       "  </thead>\n",
       "  <tbody>\n",
       "    <tr>\n",
       "      <th>0</th>\n",
       "      <td>2020</td>\n",
       "      <td>01</td>\n",
       "      <td>1</td>\n",
       "      <td>2</td>\n",
       "      <td>All I Want For Christmas Is You</td>\n",
       "      <td>Mariah Carey</td>\n",
       "      <td>mariahcarey/alliwantforchristmasisyou</td>\n",
       "    </tr>\n",
       "    <tr>\n",
       "      <th>1</th>\n",
       "      <td>2020</td>\n",
       "      <td>01</td>\n",
       "      <td>2</td>\n",
       "      <td>1</td>\n",
       "      <td>Dance Monkey</td>\n",
       "      <td>Tones and I</td>\n",
       "      <td>tones/dancemonkey</td>\n",
       "    </tr>\n",
       "  </tbody>\n",
       "</table>\n",
       "</div>"
      ],
      "text/plain": [
       "   year week  position  prev_position                              song  \\\n",
       "0  2020   01         1              2  All I Want For Christmas Is You    \n",
       "1  2020   01         2              1                      Dance Monkey   \n",
       "\n",
       "         artist                             song_index  \n",
       "0  Mariah Carey  mariahcarey/alliwantforchristmasisyou  \n",
       "1   Tones and I                      tones/dancemonkey  "
      ]
     },
     "execution_count": 20,
     "metadata": {},
     "output_type": "execute_result"
    }
   ],
   "source": [
    "chart_df.head(2)"
   ]
  },
  {
   "cell_type": "code",
   "execution_count": 18,
   "id": "003966f7-7df0-4072-9a24-0215fdab159f",
   "metadata": {},
   "outputs": [],
   "source": [
    "## Clean up data (get types correct, and prev_position \"new\" etc.)\n",
    "chart_df.loc[chart_df['prev_position'] == 'new', 'prev_position'] = 0\n",
    "chart_df.loc[chart_df['prev_position'] == 're-entry', 'prev_position'] = 0\n",
    "chart_df = chart_df.astype({'position': 'int32', 'prev_position': 'int32'})"
   ]
  },
  {
   "cell_type": "code",
   "execution_count": 41,
   "id": "b1a97ca8-47f4-4331-9e31-1be980d23bc8",
   "metadata": {},
   "outputs": [],
   "source": [
    "# Name region:\n",
    "region = 'canada'"
   ]
  },
  {
   "cell_type": "code",
   "execution_count": 40,
   "id": "96a37e23-ae1e-4e93-9cf5-24f14e108f3d",
   "metadata": {},
   "outputs": [],
   "source": [
    "## Next up, need to put that in SQLite db\n",
    "import sqlite3\n",
    "con = sqlite3.connect(\"test.db\")\n",
    "\n",
    "cur = con.cursor()\n",
    "cur.execute(f\"\"\"CREATE TABLE IF NOT EXISTS {region}_chart (\n",
    "            year text,\n",
    "            week text,\n",
    "            position integer,\n",
    "            prev_position integer,\n",
    "            song text,\n",
    "            artist text,\n",
    "            song_index text\n",
    ");\"\"\")\n",
    "con.commit()\n",
    "cur.execute(f\"\"\"CREATE TABLE IF NOT EXISTS temp_{region}_chart (\n",
    "            year text,\n",
    "            week text,\n",
    "            position integer,\n",
    "            prev_position integer,\n",
    "            song text,\n",
    "            artist text,\n",
    "            song_index text\n",
    ");\"\"\")\n",
    "con.commit()"
   ]
  },
  {
   "cell_type": "code",
   "execution_count": 44,
   "id": "b39f4a11-4cf8-4072-b624-2e96f9b1fb74",
   "metadata": {},
   "outputs": [],
   "source": [
    "chart_df.to_sql(f\"temp_{region}_chart\", con, if_exists=\"replace\", index=False)\n",
    "cur.execute(f\"\"\"\n",
    "    INSERT INTO {region}_chart\n",
    "    SELECT * FROM temp_{region}_chart\n",
    "\"\"\")\n",
    "cur.execute(f\"DROP TABLE temp_{region}_chart\")\n",
    "con.commit()"
   ]
  },
  {
   "cell_type": "code",
   "execution_count": 47,
   "id": "46ac00d0-9669-448a-a5ed-d897422c115b",
   "metadata": {},
   "outputs": [
    {
     "data": {
      "text/plain": [
       "200"
      ]
     },
     "execution_count": 47,
     "metadata": {},
     "output_type": "execute_result"
    }
   ],
   "source": [
    "len(list(cur.execute(f\"select * from {region}_chart order by position desc\")))"
   ]
  },
  {
   "cell_type": "code",
   "execution_count": null,
   "id": "9d4b87db-9152-4e0a-9b8c-2b7d4ab67fcb",
   "metadata": {},
   "outputs": [],
   "source": [
    "## Pull Lyrics and create new db for them\n"
   ]
  },
  {
   "cell_type": "code",
   "execution_count": null,
   "id": "941bf5de-fc0d-46fc-b079-1f9561fd5bc6",
   "metadata": {},
   "outputs": [],
   "source": []
  },
  {
   "cell_type": "code",
   "execution_count": null,
   "id": "6134a276-e851-4e39-9161-8ad2f4793e4e",
   "metadata": {},
   "outputs": [],
   "source": []
  },
  {
   "cell_type": "code",
   "execution_count": null,
   "id": "8b79a87f-e2d8-4dce-ab01-9275bb8c0694",
   "metadata": {},
   "outputs": [],
   "source": []
  },
  {
   "cell_type": "markdown",
   "id": "279947fc-096f-402c-aa29-a8ce0807be9a",
   "metadata": {},
   "source": [
    "## Part 4:\n",
    "Loop through content!"
   ]
  },
  {
   "cell_type": "code",
   "execution_count": null,
   "id": "e9ac1837-6a34-4de2-baa5-d3d84cb8816e",
   "metadata": {},
   "outputs": [],
   "source": []
  },
  {
   "cell_type": "code",
   "execution_count": null,
   "id": "57294bc7-f7f5-4d8e-a451-a37d26d1d08f",
   "metadata": {},
   "outputs": [],
   "source": []
  },
  {
   "cell_type": "code",
   "execution_count": null,
   "id": "f362c299-6693-4f6d-b4e2-50465aa5f4ac",
   "metadata": {},
   "outputs": [],
   "source": []
  },
  {
   "cell_type": "markdown",
   "id": "311809d0-16a8-4a78-841a-9515d8756238",
   "metadata": {},
   "source": [
    "### Appendix 3"
   ]
  },
  {
   "cell_type": "code",
   "execution_count": 134,
   "id": "255a74fd-5302-4c6b-83b1-9e6be653db32",
   "metadata": {},
   "outputs": [],
   "source": [
    "## following along here: https://docs.python.org/3/library/sqlite3.html\n",
    "import sqlite3\n",
    "con = sqlite3.connect(\"tutorial.db\")\n",
    "\n",
    "names = ['John', 'Mike', 'Jane', 'Bella']\n",
    "grades = [90, 95, 92, 98]"
   ]
  },
  {
   "cell_type": "code",
   "execution_count": 135,
   "id": "3b820af5-ec3c-44c5-bc7f-be56a20fafd2",
   "metadata": {
    "tags": []
   },
   "outputs": [],
   "source": [
    "# Create a cursor\n",
    "# https://towardsdatascience.com/from-sqlite-to-pandas-7-essential-operations-you-need-to-know-c7a5dd71f232\n",
    "cur = con.cursor()\n",
    "\n",
    "# Create the table named transcript\n",
    "cur.execute(\"CREATE TABLE transcript (name text, grade integer);\")\n",
    "\n",
    "# Insert the records\n",
    "cur.executemany(\"INSERT into transcript values (?, ?)\", zip(names, grades))\n",
    "\n",
    "# Commit all the transactions\n",
    "con.commit()"
   ]
  },
  {
   "cell_type": "code",
   "execution_count": 136,
   "id": "f25b3b14-969f-49a4-9ca1-20091e8b386f",
   "metadata": {},
   "outputs": [
    {
     "data": {
      "text/plain": [
       "[('Bella', 98), ('Mike', 95), ('Jane', 92), ('John', 90)]"
      ]
     },
     "execution_count": 136,
     "metadata": {},
     "output_type": "execute_result"
    }
   ],
   "source": [
    "cur.execute(\"select * from transcript order by grade desc\")\n",
    "list(cur)"
   ]
  },
  {
   "cell_type": "code",
   "execution_count": 137,
   "id": "1617c018-2fee-4602-aec4-5e70a78b137a",
   "metadata": {},
   "outputs": [
    {
     "data": {
      "text/plain": [
       "[('Bella', 98), ('Mike', 95), ('Jane', 92), ('John', 90)]"
      ]
     },
     "execution_count": 137,
     "metadata": {},
     "output_type": "execute_result"
    }
   ],
   "source": [
    "_ = cur.execute(\"select * from transcript order by grade desc\")\n",
    "cur.fetchall()"
   ]
  },
  {
   "cell_type": "code",
   "execution_count": 138,
   "id": "e07f4013-5f44-42d7-97a4-08ccd2e40461",
   "metadata": {},
   "outputs": [
    {
     "data": {
      "text/plain": [
       "<sqlite3.Cursor at 0x7fd5143ee3c0>"
      ]
     },
     "execution_count": 138,
     "metadata": {},
     "output_type": "execute_result"
    }
   ],
   "source": [
    "# update:\n",
    "cur.execute(\"update transcript set grade = 100 where name = 'John'\")\n",
    "# delete\n",
    "#_ = cur.execute(\"delete from transcript where name='John'\")"
   ]
  },
  {
   "cell_type": "code",
   "execution_count": 139,
   "id": "b1c065b0-0177-45cd-ac89-a1e2b18a3c87",
   "metadata": {},
   "outputs": [
    {
     "data": {
      "text/html": [
       "<div>\n",
       "<style scoped>\n",
       "    .dataframe tbody tr th:only-of-type {\n",
       "        vertical-align: middle;\n",
       "    }\n",
       "\n",
       "    .dataframe tbody tr th {\n",
       "        vertical-align: top;\n",
       "    }\n",
       "\n",
       "    .dataframe thead th {\n",
       "        text-align: right;\n",
       "    }\n",
       "</style>\n",
       "<table border=\"1\" class=\"dataframe\">\n",
       "  <thead>\n",
       "    <tr style=\"text-align: right;\">\n",
       "      <th></th>\n",
       "      <th>name</th>\n",
       "      <th>grade</th>\n",
       "    </tr>\n",
       "  </thead>\n",
       "  <tbody>\n",
       "    <tr>\n",
       "      <th>0</th>\n",
       "      <td>John</td>\n",
       "      <td>100</td>\n",
       "    </tr>\n",
       "    <tr>\n",
       "      <th>1</th>\n",
       "      <td>Mike</td>\n",
       "      <td>95</td>\n",
       "    </tr>\n",
       "    <tr>\n",
       "      <th>2</th>\n",
       "      <td>Jane</td>\n",
       "      <td>92</td>\n",
       "    </tr>\n",
       "    <tr>\n",
       "      <th>3</th>\n",
       "      <td>Bella</td>\n",
       "      <td>98</td>\n",
       "    </tr>\n",
       "  </tbody>\n",
       "</table>\n",
       "</div>"
      ],
      "text/plain": [
       "    name  grade\n",
       "0   John    100\n",
       "1   Mike     95\n",
       "2   Jane     92\n",
       "3  Bella     98"
      ]
     },
     "execution_count": 139,
     "metadata": {},
     "output_type": "execute_result"
    }
   ],
   "source": [
    "# read to pd\n",
    "import pandas as pd\n",
    "df = pd.read_sql(\"select * from transcript\", con)\n",
    "df"
   ]
  },
  {
   "cell_type": "code",
   "execution_count": 140,
   "id": "d2e14f63-206f-4a6b-a5fa-3bf661951f53",
   "metadata": {},
   "outputs": [
    {
     "data": {
      "text/plain": [
       "[('John', 100, 4.0), ('Bella', 98, 3.3), ('Mike', 95, 3.8), ('Jane', 92, 3.9)]"
      ]
     },
     "execution_count": 140,
     "metadata": {},
     "output_type": "execute_result"
    }
   ],
   "source": [
    "## write from pd\n",
    "df['gpa'] = [4.0, 3.8, 3.9, 3.3]\n",
    "df.to_sql(\"transcript\", con, if_exists=\"replace\", index=False)\n",
    "list(cur.execute(\"select * from transcript order by grade desc\"))"
   ]
  },
  {
   "cell_type": "code",
   "execution_count": 149,
   "id": "057bca92-50ee-4181-a7b2-5153077d2903",
   "metadata": {},
   "outputs": [
    {
     "data": {
      "text/plain": [
       "[('table',\n",
       "  'transcript',\n",
       "  'transcript',\n",
       "  2,\n",
       "  'CREATE TABLE \"transcript\" (\\n\"name\" TEXT,\\n  \"grade\" INTEGER,\\n  \"gpa\" REAL\\n)')]"
      ]
     },
     "execution_count": 149,
     "metadata": {},
     "output_type": "execute_result"
    }
   ],
   "source": [
    "# See the column names and types:\n",
    "res = cur.execute(\"SELECT * FROM sqlite_master\")\n",
    "res.fetchall()"
   ]
  },
  {
   "cell_type": "code",
   "execution_count": null,
   "id": "dabf6e4c-b94f-450d-afcd-21abdc029c13",
   "metadata": {},
   "outputs": [],
   "source": []
  },
  {
   "cell_type": "code",
   "execution_count": null,
   "id": "6ae1b5ce-6c17-4c18-af6c-9f6fa0e1edad",
   "metadata": {},
   "outputs": [],
   "source": []
  },
  {
   "cell_type": "code",
   "execution_count": null,
   "id": "cc582d0c-cfa7-41cf-bbfc-544aa9c79e7d",
   "metadata": {},
   "outputs": [],
   "source": []
  },
  {
   "cell_type": "markdown",
   "id": "dd35bc23-0214-4452-986b-eabfaf03c996",
   "metadata": {},
   "source": [
    "## Appendix 2"
   ]
  },
  {
   "cell_type": "code",
   "execution_count": 12,
   "id": "28b17d96-50b8-4619-a464-ac8357d4b47a",
   "metadata": {},
   "outputs": [
    {
     "data": {
      "text/plain": [
       "'https://www.azlyrics.com/lyrics/eltonjohn/holdmecloser.html'"
      ]
     },
     "execution_count": 12,
     "metadata": {},
     "output_type": "execute_result"
    }
   ],
   "source": [
    "first_artist = foo[2][1].split('and')[0]\n",
    "first_artist = strip_string(first_artist)\n",
    "song = foo[2][0]\n",
    "song = strip_string(song)\n",
    "\n",
    "lyric_url = \"https://www.azlyrics.com/lyrics/\" + first_artist + \"/\" + song + \".html\"\n",
    "lyric_url"
   ]
  },
  {
   "cell_type": "code",
   "execution_count": 55,
   "id": "7743898c-cd2c-466c-aa2c-bd3a165a0117",
   "metadata": {},
   "outputs": [],
   "source": [
    "# read page:\n",
    "read_pg = requests.get(lyric_url, headers=header)"
   ]
  },
  {
   "cell_type": "code",
   "execution_count": 56,
   "id": "80c9314c-f239-4e90-9af0-c9f97420cb0a",
   "metadata": {},
   "outputs": [],
   "source": [
    "soup = BeautifulSoup(read_pg.text, \"html.parser\")"
   ]
  },
  {
   "cell_type": "code",
   "execution_count": 15,
   "id": "9b25a14d-9b99-4350-8841-93a35b85550a",
   "metadata": {},
   "outputs": [],
   "source": [
    "## Dump in file for fun:\n",
    "html = soup.prettify(\"utf-8\")\n",
    "with open(\"soupDump2.html\", \"wb\") as file:\n",
    "    file.write(html)"
   ]
  },
  {
   "cell_type": "code",
   "execution_count": 57,
   "id": "f78f9501-9a27-430f-8fd1-f24fc5484840",
   "metadata": {},
   "outputs": [],
   "source": [
    "## extracting: <div class=\"col-xs-12 col-lg-8 text-center\">\n",
    "#s = soup.findAll(\"table\")[0]\n",
    "#rank = tr.find('span', {\"itemprop\": \"position\"}).text\n",
    "s = soup.find('div', {'class': 'col-xs-12 col-lg-8 text-center'})\n"
   ]
  },
  {
   "cell_type": "code",
   "execution_count": 58,
   "id": "6a6c90d8-f72f-4251-ab53-dc001f05ed3b",
   "metadata": {},
   "outputs": [],
   "source": [
    "lyr = s.findAll('div')"
   ]
  },
  {
   "cell_type": "code",
   "execution_count": 77,
   "id": "5347e9bc-def6-4170-ae3f-c141845fd269",
   "metadata": {
    "collapsed": true,
    "jupyter": {
     "outputs_hidden": true
    },
    "tags": []
   },
   "outputs": [
    {
     "name": "stdout",
     "output_type": "stream",
     "text": [
      "\n",
      "\n",
      "\n",
      "\n",
      "\n",
      "Hold me closer\n",
      "Hold me closer\n",
      "Hold me closer\n",
      "Hold me closer\n",
      "\n",
      "Saw you dancing out the ocean\n",
      "Running fast along the sand\n",
      "A spirit born of earth and water\n",
      "Fire flying from your hands\n",
      "\n",
      "Oh\n",
      "\n",
      "Hold me closer, tiny dancer\n",
      "Count the headlights on the highway\n",
      "Lay me down in sheets of linen\n",
      "You had a busy day today\n",
      "\n",
      "Oh\n",
      "\n",
      "Hold me closer\n",
      "Hold me closer (Hold me closer)\n",
      "Hold me closer\n",
      "Hold me closer\n",
      "\n",
      "There are caravans we follow\n",
      "Drunken nights in dark hotels (Baby)\n",
      "When chances breathe between the silence\n",
      "When sex and love no longer gel\n",
      "\n",
      "Oh\n",
      "\n",
      "Hold me closer, tiny dancer\n",
      "Count the headlights on the highway (Baby)\n",
      "Lay me down in sheets of linen\n",
      "You had a busy day today\n",
      "\n",
      "Hold me closer\n",
      "Hold me closer (Baby, baby)\n",
      "Hold me closer\n",
      "Hold me closer (Oh yeah)\n",
      "\n",
      "Hold me closer\n",
      "Hold me closer\n",
      "(Hold me closer, me closer) Hold me closer\n",
      "(Me closer, mm, yeah) Hold me closer\n",
      "\n",
      "\n",
      "\n",
      "\n",
      "\n"
     ]
    }
   ],
   "source": [
    "for div in lyr[4:7]:\n",
    "    print(div.text)"
   ]
  },
  {
   "cell_type": "code",
   "execution_count": null,
   "id": "59c1dcf4-7733-4aad-bbf1-cc651e2563aa",
   "metadata": {},
   "outputs": [],
   "source": []
  },
  {
   "cell_type": "markdown",
   "id": "03ff6490-e956-496a-a487-c8f6f911cb60",
   "metadata": {},
   "source": [
    "## Appendix"
   ]
  },
  {
   "cell_type": "code",
   "execution_count": null,
   "id": "84e0d8db-8dad-41d2-9863-af1d8d63dbb5",
   "metadata": {},
   "outputs": [],
   "source": [
    "# Learning soup\n",
    "# https://www.crummy.com/software/BeautifulSoup/bs4/doc/\n",
    "soup = BeautifulSoup(read_pg.text, \"html.parser\")"
   ]
  },
  {
   "cell_type": "code",
   "execution_count": null,
   "id": "612ccf0a-ffb1-4f2a-9a94-5e8bf2d94745",
   "metadata": {},
   "outputs": [],
   "source": [
    "## Dump in file for fun:\n",
    "html = soup.prettify(\"utf-8\")\n",
    "with open(\"soupDump.html\", \"wb\") as file:\n",
    "    file.write(html)"
   ]
  },
  {
   "cell_type": "code",
   "execution_count": 24,
   "id": "f0d27833-a528-45fb-aed0-05bcc465ca5e",
   "metadata": {},
   "outputs": [],
   "source": [
    "tr = s.find(\"tbody\").findAll(\"tr\")[2]"
   ]
  },
  {
   "cell_type": "code",
   "execution_count": 72,
   "id": "08afb556-e4d0-424d-809e-7feaaabb4416",
   "metadata": {
    "tags": []
   },
   "outputs": [
    {
     "data": {
      "text/plain": [
       "'3'"
      ]
     },
     "execution_count": 72,
     "metadata": {},
     "output_type": "execute_result"
    }
   ],
   "source": [
    "#Song position!\n",
    "tr.find('span', {\"itemprop\": \"position\"}).text"
   ]
  },
  {
   "cell_type": "code",
   "execution_count": 73,
   "id": "fe461a74-6107-4bd3-a734-aa85d87d8ab0",
   "metadata": {},
   "outputs": [
    {
     "data": {
      "text/plain": [
       "'\\n\\n                        (new)\\n                    '"
      ]
     },
     "execution_count": 73,
     "metadata": {},
     "output_type": "execute_result"
    }
   ],
   "source": [
    "# Previous\n",
    "tr.find('span', {'class':'Sub subStatsPrev'}).text"
   ]
  },
  {
   "cell_type": "code",
   "execution_count": 74,
   "id": "d7e6c720-f618-4960-9051-a48ad50108c2",
   "metadata": {},
   "outputs": [
    {
     "data": {
      "text/plain": [
       "'Hold Me Closer'"
      ]
     },
     "execution_count": 74,
     "metadata": {},
     "output_type": "execute_result"
    }
   ],
   "source": [
    "# Title\n",
    "tr.find('span', {'itemprop':'name'}).text"
   ]
  },
  {
   "cell_type": "code",
   "execution_count": 75,
   "id": "7661234b-f332-43c4-a225-ded71288fb37",
   "metadata": {},
   "outputs": [
    {
     "data": {
      "text/plain": [
       "'Elton John and Britney Spears'"
      ]
     },
     "execution_count": 75,
     "metadata": {},
     "output_type": "execute_result"
    }
   ],
   "source": [
    "# artist(s)\n",
    "artist = \"\"\n",
    "first = True\n",
    "for artists in tr.findAll('span', {'itemprop':'byArtist'}):\n",
    "    if first:\n",
    "        artist += artists.find('span', {'itemprop':'name'}).text\n",
    "        first = False\n",
    "    else:\n",
    "        artist += \" and \" + artists.find('span', {'itemprop':'name'}).text\n",
    "artist"
   ]
  },
  {
   "cell_type": "code",
   "execution_count": null,
   "id": "3cd261d7-8f2e-43f1-909d-ab0e3adf6a1c",
   "metadata": {},
   "outputs": [],
   "source": []
  }
 ],
 "metadata": {
  "kernelspec": {
   "display_name": "Python 3 (ipykernel)",
   "language": "python",
   "name": "python3"
  },
  "language_info": {
   "codemirror_mode": {
    "name": "ipython",
    "version": 3
   },
   "file_extension": ".py",
   "mimetype": "text/x-python",
   "name": "python",
   "nbconvert_exporter": "python",
   "pygments_lexer": "ipython3",
   "version": "3.9.13"
  }
 },
 "nbformat": 4,
 "nbformat_minor": 5
}
