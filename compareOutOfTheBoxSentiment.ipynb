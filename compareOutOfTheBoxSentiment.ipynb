{
 "cells": [
  {
   "cell_type": "markdown",
   "id": "9c92299a-32f3-4936-aae3-26f069eaeb70",
   "metadata": {},
   "source": [
    "## Comparing Flair, VADER, and TextBlob\n",
    "3 out of the box ready to use sentiment analysis models."
   ]
  },
  {
   "cell_type": "code",
   "execution_count": 1,
   "id": "75d882e0-d472-4328-91de-823e3701424c",
   "metadata": {},
   "outputs": [
    {
     "data": {
      "text/html": [
       "<div>\n",
       "<style scoped>\n",
       "    .dataframe tbody tr th:only-of-type {\n",
       "        vertical-align: middle;\n",
       "    }\n",
       "\n",
       "    .dataframe tbody tr th {\n",
       "        vertical-align: top;\n",
       "    }\n",
       "\n",
       "    .dataframe thead th {\n",
       "        text-align: right;\n",
       "    }\n",
       "</style>\n",
       "<table border=\"1\" class=\"dataframe\">\n",
       "  <thead>\n",
       "    <tr style=\"text-align: right;\">\n",
       "      <th></th>\n",
       "      <th>song_index</th>\n",
       "      <th>lyrics</th>\n",
       "    </tr>\n",
       "  </thead>\n",
       "  <tbody>\n",
       "    <tr>\n",
       "      <th>0</th>\n",
       "      <td>saintjhn/roses</td>\n",
       "      <td>\\n\\r\\nRoses\\nI walked in the corner with the b...</td>\n",
       "    </tr>\n",
       "    <tr>\n",
       "      <th>1</th>\n",
       "      <td>dababy/rockstar</td>\n",
       "      <td>\\n\\n[DaBaby:]\\nWoo, woo\\nI pull up like\\nHow y...</td>\n",
       "    </tr>\n",
       "    <tr>\n",
       "      <th>2</th>\n",
       "      <td>jawsh/savagelovelaxedsirenbeat</td>\n",
       "      <td>!1</td>\n",
       "    </tr>\n",
       "    <tr>\n",
       "      <th>3</th>\n",
       "      <td>juicewrld/comego</td>\n",
       "      <td>\\n\\r\\nWoah\\nUh (Uh)\\nOh, oh-oh, oh (Mello made...</td>\n",
       "    </tr>\n",
       "    <tr>\n",
       "      <th>4</th>\n",
       "      <td>theweeknd/blindinglights</td>\n",
       "      <td>!1</td>\n",
       "    </tr>\n",
       "  </tbody>\n",
       "</table>\n",
       "</div>"
      ],
      "text/plain": [
       "                       song_index  \\\n",
       "0                  saintjhn/roses   \n",
       "1                 dababy/rockstar   \n",
       "2  jawsh/savagelovelaxedsirenbeat   \n",
       "3                juicewrld/comego   \n",
       "4        theweeknd/blindinglights   \n",
       "\n",
       "                                              lyrics  \n",
       "0  \\n\\r\\nRoses\\nI walked in the corner with the b...  \n",
       "1  \\n\\n[DaBaby:]\\nWoo, woo\\nI pull up like\\nHow y...  \n",
       "2                                                 !1  \n",
       "3  \\n\\r\\nWoah\\nUh (Uh)\\nOh, oh-oh, oh (Mello made...  \n",
       "4                                                 !1  "
      ]
     },
     "execution_count": 1,
     "metadata": {},
     "output_type": "execute_result"
    }
   ],
   "source": [
    "# load data:\n",
    "import pandas as pd\n",
    "import sqlite3\n",
    "con = sqlite3.connect(\"test_data/sentiment_compare.db\")\n",
    "df = pd.read_sql(\"select * from sentiment_compare\", con)\n",
    "df.head()"
   ]
  },
  {
   "cell_type": "code",
   "execution_count": 29,
   "id": "b3100225-831c-41a6-9d4a-b012c6dffccd",
   "metadata": {},
   "outputs": [],
   "source": [
    "df_test = df[df.lyrics != '!1']"
   ]
  },
  {
   "cell_type": "code",
   "execution_count": 3,
   "id": "2fd23fa3-3d30-48bc-a6a8-aaebe166d106",
   "metadata": {},
   "outputs": [
    {
     "data": {
      "text/plain": [
       "83"
      ]
     },
     "execution_count": 3,
     "metadata": {},
     "output_type": "execute_result"
    }
   ],
   "source": [
    "len(df_test) #not bad!"
   ]
  },
  {
   "cell_type": "code",
   "execution_count": 73,
   "id": "d78bfcb6-b70d-4f0b-86cb-8890e016f99c",
   "metadata": {},
   "outputs": [
    {
     "name": "stdout",
     "output_type": "stream",
     "text": [
      "saintjhn/roses\n",
      "\n",
      "\n",
      "Roses\n",
      "I walked in the corner with the body screaming dolo\n",
      "Never sold a bag but look like Pablo in a photo\n",
      "This gon' make 'em feel the way like Tony killed Manolo\n",
      "You already know though, you already know though\n",
      "I walk in the corner with the money, on my finger\n",
      "She might get it popping, I might wife her for the winter\n",
      "I already know, already know, nigga roses\n",
      "All I need is roses\n",
      "\n",
      "Turn up baby, turn up, when I turn it on\n",
      "You know how I get too lit when I turn it on\n",
      "Can't handle my behavior when I turn it on\n",
      "Too fast, never ask, if the life don't last\n",
      "Done been through it all\n",
      "Fuck with a nigga raw, this who you wanna be\n",
      "And I know you won't tell nobody nothing\n",
      "And I know you won't tell nobody no\n",
      "\n",
      "Roses\n",
      "I might pull up flexing on these niggas like aerobics\n",
      "I might tell her girl you cute but balling\n",
      "That shit gorgeous\n",
      "Standing on the table, RosÃ©, RosÃ©, fuck the waters\n",
      "You know who to the god is\n",
      "\n",
      "Turn up baby, turn up, when I turn it on\n",
      "You know how I get too lit when I turn it on\n",
      "Can't handle my behavior when I turn it on\n",
      "Too fast, never ask, if the life don't last\n",
      "Done been through it all\n",
      "Fuck with a nigga raw\n",
      "\n",
      "I might bring them Brooklyn niggas out, oh lord it's overs\n",
      "I might bring them strippers out and tell 'em do it pole-less\n",
      "You already know, already know, nigga roses\n",
      "Kill 'em, make it ...\n",
      "\n",
      "Turn up baby, turn up, when I turn it on\n",
      "You know how I get too lit when I turn it on\n",
      "Can't handle my behavior when I turn it on\n",
      "Too fast, never ask, if the life don't last\n",
      "Done been through it all\n",
      "Fuck with a nigga raw, this who you wanna be\n",
      "And I know you won't tell nobody nothing\n",
      "And I know you won't tell nobody no\n",
      "\n",
      "Roses\n",
      "Roses\n",
      "\n"
     ]
    }
   ],
   "source": [
    "print(df.song_index[0])\n",
    "print(df.lyrics[0])"
   ]
  },
  {
   "cell_type": "code",
   "execution_count": 83,
   "id": "f400c4c0-273c-430a-89c1-3cd806a55f87",
   "metadata": {},
   "outputs": [],
   "source": [
    "# Clean up lyrics: TBD\n",
    "import re\n",
    "import unidecode\n",
    "\n",
    "def cleanlyrics(lyrics):\n",
    "    \"\"\"\n",
    "    Returns the lines of input lyrics without any blanks,\n",
    "    brackets, or accented characters.\n",
    "    \"\"\"\n",
    "    # Remove brackets (), and remove all content in [] brackets\n",
    "    lyrics = lyrics.replace('(','').replace(')','')\n",
    "    lyrics = re.sub(\"[\\[].*?[\\]]\", \"\", lyrics)\n",
    "\n",
    "    # unaccent string:\n",
    "    lyrics = unidecode.unidecode(lyrics)\n",
    "    \n",
    "    # Remove blank lines\n",
    "    blanklines = True\n",
    "    while blanklines:\n",
    "        lyrics = lyrics.replace('\\n\\n','\\n')\n",
    "        if '\\n\\n' not in lyrics:\n",
    "            blanklines = False\n",
    "    \n",
    "    # Split lines and remove blanks / single character lines:\n",
    "    return [line for line in lyrics.split('\\n') if len(line) > 1]"
   ]
  },
  {
   "cell_type": "code",
   "execution_count": null,
   "id": "e020c29a-2169-40fe-afc9-bddb2eb888e6",
   "metadata": {},
   "outputs": [],
   "source": []
  },
  {
   "cell_type": "markdown",
   "id": "aaa0a1fe-4942-4f8e-b0d2-6ece7f609d2a",
   "metadata": {},
   "source": [
    "# Flair"
   ]
  },
  {
   "cell_type": "code",
   "execution_count": 6,
   "id": "d56cc781-1d3c-4d59-b0e8-d3eeddd51b1e",
   "metadata": {},
   "outputs": [
    {
     "name": "stderr",
     "output_type": "stream",
     "text": [
      "/opt/anaconda3/envs/songmoodswings/lib/python3.9/site-packages/tqdm/auto.py:22: TqdmWarning: IProgress not found. Please update jupyter and ipywidgets. See https://ipywidgets.readthedocs.io/en/stable/user_install.html\n",
      "  from .autonotebook import tqdm as notebook_tqdm\n"
     ]
    },
    {
     "name": "stdout",
     "output_type": "stream",
     "text": [
      "2022-10-11 11:35:43,426 loading file /Users/williamcartar/.flair/models/sentiment-en-mix-distillbert_4.pt\n"
     ]
    }
   ],
   "source": [
    "import torch\n",
    "from flair.models import TextClassifier\n",
    "from flair.data import Sentence\n",
    "\n",
    "# load tagger\n",
    "classifier = TextClassifier.load('sentiment')"
   ]
  },
  {
   "cell_type": "code",
   "execution_count": 7,
   "id": "907e5f7f-e073-41ba-bb44-d1bcf81462f9",
   "metadata": {},
   "outputs": [],
   "source": [
    "def flair_sentiment(phrase):\n",
    "    sentence = Sentence(phrase)\n",
    "    # call predict\n",
    "    classifier.predict(sentence)\n",
    "    \n",
    "    score = 0\n",
    "    if sentence.tag == 'NEGATIVE':\n",
    "        score = sentence.score * -1\n",
    "    elif sentence.tag == 'POSITIVE':\n",
    "        score = sentence.score\n",
    "\n",
    "    return score"
   ]
  },
  {
   "cell_type": "code",
   "execution_count": 8,
   "id": "5816153c-a506-4e02-a957-bf88e79becf0",
   "metadata": {},
   "outputs": [
    {
     "data": {
      "text/plain": [
       "-0.9997355341911316"
      ]
     },
     "execution_count": 8,
     "metadata": {},
     "output_type": "execute_result"
    }
   ],
   "source": [
    "flair_sentiment('I hate you')"
   ]
  },
  {
   "cell_type": "markdown",
   "id": "03420175-4b36-46ce-8fe9-bb1ad3b5e5aa",
   "metadata": {},
   "source": [
    "# VADER"
   ]
  },
  {
   "cell_type": "code",
   "execution_count": 9,
   "id": "c39e6831-efda-4391-a176-8e16d95acee5",
   "metadata": {},
   "outputs": [],
   "source": [
    "from vaderSentiment.vaderSentiment import SentimentIntensityAnalyzer\n",
    "#note: depending on how you installed (e.g., using source code download versus pip install), you may need to import like this:\n",
    "#from vaderSentiment import SentimentIntensityAnalyzer\n",
    "\n",
    "vader_analyzer = SentimentIntensityAnalyzer()"
   ]
  },
  {
   "cell_type": "code",
   "execution_count": 10,
   "id": "25dc5987-597f-4f93-a183-9639a3851f41",
   "metadata": {},
   "outputs": [],
   "source": [
    "def vader_sentiment(phrase):\n",
    "    return vader_analyzer.polarity_scores(phrase)['compound']"
   ]
  },
  {
   "cell_type": "code",
   "execution_count": 11,
   "id": "3f796e4e-a378-4de6-a460-b7f96117fa23",
   "metadata": {},
   "outputs": [
    {
     "data": {
      "text/plain": [
       "-0.5719"
      ]
     },
     "execution_count": 11,
     "metadata": {},
     "output_type": "execute_result"
    }
   ],
   "source": [
    "vader_sentiment('I hate you')"
   ]
  },
  {
   "cell_type": "markdown",
   "id": "8c6e8bab-6c31-4fba-a2dd-103da90be72a",
   "metadata": {},
   "source": [
    "# TextBlob"
   ]
  },
  {
   "cell_type": "code",
   "execution_count": 22,
   "id": "5b391ac1-9564-4626-a07c-92139c44a7b0",
   "metadata": {},
   "outputs": [],
   "source": [
    "from textblob import TextBlob\n",
    "from textblob.sentiments import NaiveBayesAnalyzer"
   ]
  },
  {
   "cell_type": "code",
   "execution_count": 23,
   "id": "6a5baaa2-0885-4032-b977-498304619d69",
   "metadata": {},
   "outputs": [],
   "source": [
    "def textblob_sentiment(phrase):\n",
    "    sentiment = TextBlob(phrase).sentiment\n",
    "    return sentiment.polarity * sentiment.subjectivity\n",
    "def textblobbayes_sentiment(phrase):\n",
    "    sentiment = TextBlob(phrase, analyzer=NaiveBayesAnalyzer()).sentiment\n",
    "    return sentiment"
   ]
  },
  {
   "cell_type": "code",
   "execution_count": 24,
   "id": "6dfa9a4d-958f-4939-bb77-af8af90e9774",
   "metadata": {},
   "outputs": [
    {
     "data": {
      "text/plain": [
       "-0.7200000000000001"
      ]
     },
     "execution_count": 24,
     "metadata": {},
     "output_type": "execute_result"
    }
   ],
   "source": [
    "textblob_sentiment('I hate you')"
   ]
  },
  {
   "cell_type": "code",
   "execution_count": 25,
   "id": "089b4975-71fd-46fd-9591-51a926287980",
   "metadata": {},
   "outputs": [
    {
     "data": {
      "text/plain": [
       "Sentiment(classification='pos', p_pos=0.5153573426705306, p_neg=0.48464265732946954)"
      ]
     },
     "execution_count": 25,
     "metadata": {},
     "output_type": "execute_result"
    }
   ],
   "source": [
    "textblobbayes_sentiment('I hate you')"
   ]
  },
  {
   "cell_type": "code",
   "execution_count": null,
   "id": "9ad72691-801e-4bd0-9dbf-aa6dc0626dd7",
   "metadata": {},
   "outputs": [],
   "source": []
  },
  {
   "cell_type": "markdown",
   "id": "93488e07-2c7d-441e-bc11-c6791644e577",
   "metadata": {},
   "source": [
    "# Discussion\n",
    "You'll see that Flair is the most certain of it's answers, which is because it was trained via IMDB reviews. Whereas VADER was trained off social media, it has the context that sometimes, people will say \"I hate you\", but really mean it in a positive way.\n",
    "\n",
    "As we can see, textblob's default analyzer seems to handle basic sentences better. As such, we'll be using it and dropping the bayes analyzer."
   ]
  },
  {
   "cell_type": "markdown",
   "id": "0ae399a6-700b-4e8b-8ca4-c9b466a2822e",
   "metadata": {
    "tags": []
   },
   "source": [
    "# Compare!"
   ]
  },
  {
   "cell_type": "code",
   "execution_count": 86,
   "id": "8a43812a-7b3a-43b0-b4b3-9170b68f60c1",
   "metadata": {},
   "outputs": [],
   "source": [
    "def compare_analyzers(lyrics):\n",
    "    lines = cleanlyrics(lyrics)\n",
    "    scores = []\n",
    "    analyzers = {'flair':0, 'vader': 0, 'textblob': 0}\n",
    "    total_scores = {'flair':0, 'vader': 0, 'textblob': 0}\n",
    "    for line in lines:\n",
    "        scores.append(\n",
    "            (\n",
    "                line, {\n",
    "                    'flair': flair_sentiment(line),\n",
    "                    'vader': vader_sentiment(line),\n",
    "                    'textblob': textblob_sentiment(line),\n",
    "                }\n",
    "            )\n",
    "        )\n",
    "\n",
    "        total_scores['flair'] += scores[-1][1]['flair']\n",
    "        total_scores['vader'] += scores[-1][1]['vader']\n",
    "        total_scores['textblob'] += scores[-1][1]['textblob']\n",
    "        \n",
    "    # Normalize:\n",
    "    total_scores['flair'] = total_scores['flair'] / len(lines)\n",
    "    total_scores['vader'] = total_scores['vader'] / len(lines)\n",
    "    total_scores['textblob'] = total_scores['textblob'] / len(lines)\n",
    "\n",
    "    return scores, total_scores"
   ]
  },
  {
   "cell_type": "code",
   "execution_count": 105,
   "id": "933ec345-6c40-4690-a862-240847b03f50",
   "metadata": {},
   "outputs": [],
   "source": [
    "# Iterating over two columns, use `zip`\n",
    "songs = [(x, y) for x, y in zip(df_test['song_index'], df_test['lyrics'])]"
   ]
  },
  {
   "cell_type": "code",
   "execution_count": null,
   "id": "bf0eaf8a-7781-4ab4-b66f-7f114e710053",
   "metadata": {},
   "outputs": [],
   "source": []
  },
  {
   "cell_type": "code",
   "execution_count": 130,
   "id": "d4eb99fc-f484-4861-a7ba-686d38d9e236",
   "metadata": {},
   "outputs": [],
   "source": [
    "names = []\n",
    "flair = []\n",
    "vader = []\n",
    "textblob = []\n",
    "\n",
    "for song in songs:\n",
    "    score, total = compare_analyzers(song[1])\n",
    "    names.append(song[0])\n",
    "    flair.append(total['flair'])\n",
    "    vader.append(total['vader'])\n",
    "    textblob.append(total['textblob'])\n",
    "    "
   ]
  },
  {
   "cell_type": "code",
   "execution_count": 131,
   "id": "ce2b3c4b-512b-4837-8b05-1bce3131589c",
   "metadata": {},
   "outputs": [],
   "source": [
    "data = {\n",
    "    'song_index': names,\n",
    "    'flair': flair,\n",
    "    'vader': vader,\n",
    "    'textblob': textblob,\n",
    "}\n",
    "df_out = pd.DataFrame.from_dict(data)"
   ]
  },
  {
   "cell_type": "code",
   "execution_count": 132,
   "id": "51582dd3-9a05-4415-91a7-fe35a9d245bf",
   "metadata": {},
   "outputs": [
    {
     "data": {
      "text/html": [
       "<div>\n",
       "<style scoped>\n",
       "    .dataframe tbody tr th:only-of-type {\n",
       "        vertical-align: middle;\n",
       "    }\n",
       "\n",
       "    .dataframe tbody tr th {\n",
       "        vertical-align: top;\n",
       "    }\n",
       "\n",
       "    .dataframe thead th {\n",
       "        text-align: right;\n",
       "    }\n",
       "</style>\n",
       "<table border=\"1\" class=\"dataframe\">\n",
       "  <thead>\n",
       "    <tr style=\"text-align: right;\">\n",
       "      <th></th>\n",
       "      <th>song_index</th>\n",
       "      <th>flair</th>\n",
       "      <th>vader</th>\n",
       "      <th>textblob</th>\n",
       "    </tr>\n",
       "  </thead>\n",
       "  <tbody>\n",
       "    <tr>\n",
       "      <th>0</th>\n",
       "      <td>saintjhn/roses</td>\n",
       "      <td>0.042620</td>\n",
       "      <td>-0.056735</td>\n",
       "      <td>0.001635</td>\n",
       "    </tr>\n",
       "    <tr>\n",
       "      <th>1</th>\n",
       "      <td>dababy/rockstar</td>\n",
       "      <td>0.344000</td>\n",
       "      <td>0.140809</td>\n",
       "      <td>0.017396</td>\n",
       "    </tr>\n",
       "    <tr>\n",
       "      <th>2</th>\n",
       "      <td>juicewrld/comego</td>\n",
       "      <td>0.628804</td>\n",
       "      <td>0.311418</td>\n",
       "      <td>0.094232</td>\n",
       "    </tr>\n",
       "    <tr>\n",
       "      <th>3</th>\n",
       "      <td>harrystyles/watermelonsugar</td>\n",
       "      <td>-0.254719</td>\n",
       "      <td>0.062711</td>\n",
       "      <td>0.064287</td>\n",
       "    </tr>\n",
       "    <tr>\n",
       "      <th>4</th>\n",
       "      <td>jackharlow/whatspoppin</td>\n",
       "      <td>0.139775</td>\n",
       "      <td>-0.032980</td>\n",
       "      <td>-0.020325</td>\n",
       "    </tr>\n",
       "  </tbody>\n",
       "</table>\n",
       "</div>"
      ],
      "text/plain": [
       "                    song_index     flair     vader  textblob\n",
       "0               saintjhn/roses  0.042620 -0.056735  0.001635\n",
       "1              dababy/rockstar  0.344000  0.140809  0.017396\n",
       "2             juicewrld/comego  0.628804  0.311418  0.094232\n",
       "3  harrystyles/watermelonsugar -0.254719  0.062711  0.064287\n",
       "4       jackharlow/whatspoppin  0.139775 -0.032980 -0.020325"
      ]
     },
     "execution_count": 132,
     "metadata": {},
     "output_type": "execute_result"
    }
   ],
   "source": [
    "df_out.head()"
   ]
  },
  {
   "cell_type": "code",
   "execution_count": null,
   "id": "fbf34f4c-9d35-49f6-98df-903e60a3db55",
   "metadata": {},
   "outputs": [],
   "source": []
  },
  {
   "cell_type": "markdown",
   "id": "d9dab8bf-c1c7-4ffb-a21e-1eaa36c27723",
   "metadata": {},
   "source": [
    "# Evaluation:\n",
    "Look at the distance of each analyzer away from the average, and when the distance is the greatest, who was right?"
   ]
  },
  {
   "cell_type": "code",
   "execution_count": 167,
   "id": "76219b6f-0fbe-4705-971d-84cc63be463f",
   "metadata": {
    "tags": []
   },
   "outputs": [
    {
     "data": {
      "text/html": [
       "<div>\n",
       "<style scoped>\n",
       "    .dataframe tbody tr th:only-of-type {\n",
       "        vertical-align: middle;\n",
       "    }\n",
       "\n",
       "    .dataframe tbody tr th {\n",
       "        vertical-align: top;\n",
       "    }\n",
       "\n",
       "    .dataframe thead th {\n",
       "        text-align: right;\n",
       "    }\n",
       "</style>\n",
       "<table border=\"1\" class=\"dataframe\">\n",
       "  <thead>\n",
       "    <tr style=\"text-align: right;\">\n",
       "      <th></th>\n",
       "      <th>song_index</th>\n",
       "      <th>flair</th>\n",
       "      <th>vader</th>\n",
       "      <th>textblob</th>\n",
       "      <th>combined</th>\n",
       "      <th>flair_mse</th>\n",
       "      <th>vader_mse</th>\n",
       "      <th>textblob_mse</th>\n",
       "    </tr>\n",
       "  </thead>\n",
       "  <tbody>\n",
       "    <tr>\n",
       "      <th>0</th>\n",
       "      <td>saintjhn/roses</td>\n",
       "      <td>0.042620</td>\n",
       "      <td>-0.056735</td>\n",
       "      <td>0.001635</td>\n",
       "      <td>-0.004160</td>\n",
       "      <td>0.002188</td>\n",
       "      <td>0.002764</td>\n",
       "      <td>0.000034</td>\n",
       "    </tr>\n",
       "    <tr>\n",
       "      <th>1</th>\n",
       "      <td>dababy/rockstar</td>\n",
       "      <td>0.344000</td>\n",
       "      <td>0.140809</td>\n",
       "      <td>0.017396</td>\n",
       "      <td>0.167402</td>\n",
       "      <td>0.031187</td>\n",
       "      <td>0.000707</td>\n",
       "      <td>0.022502</td>\n",
       "    </tr>\n",
       "    <tr>\n",
       "      <th>2</th>\n",
       "      <td>juicewrld/comego</td>\n",
       "      <td>0.628804</td>\n",
       "      <td>0.311418</td>\n",
       "      <td>0.094232</td>\n",
       "      <td>0.344818</td>\n",
       "      <td>0.080648</td>\n",
       "      <td>0.001116</td>\n",
       "      <td>0.062793</td>\n",
       "    </tr>\n",
       "    <tr>\n",
       "      <th>3</th>\n",
       "      <td>harrystyles/watermelonsugar</td>\n",
       "      <td>-0.254719</td>\n",
       "      <td>0.062711</td>\n",
       "      <td>0.064287</td>\n",
       "      <td>-0.042574</td>\n",
       "      <td>0.045005</td>\n",
       "      <td>0.011085</td>\n",
       "      <td>0.011419</td>\n",
       "    </tr>\n",
       "    <tr>\n",
       "      <th>4</th>\n",
       "      <td>jackharlow/whatspoppin</td>\n",
       "      <td>0.139775</td>\n",
       "      <td>-0.032980</td>\n",
       "      <td>-0.020325</td>\n",
       "      <td>0.028823</td>\n",
       "      <td>0.012310</td>\n",
       "      <td>0.003820</td>\n",
       "      <td>0.002416</td>\n",
       "    </tr>\n",
       "  </tbody>\n",
       "</table>\n",
       "</div>"
      ],
      "text/plain": [
       "                    song_index     flair     vader  textblob  combined  \\\n",
       "0               saintjhn/roses  0.042620 -0.056735  0.001635 -0.004160   \n",
       "1              dababy/rockstar  0.344000  0.140809  0.017396  0.167402   \n",
       "2             juicewrld/comego  0.628804  0.311418  0.094232  0.344818   \n",
       "3  harrystyles/watermelonsugar -0.254719  0.062711  0.064287 -0.042574   \n",
       "4       jackharlow/whatspoppin  0.139775 -0.032980 -0.020325  0.028823   \n",
       "\n",
       "   flair_mse  vader_mse  textblob_mse  \n",
       "0   0.002188   0.002764      0.000034  \n",
       "1   0.031187   0.000707      0.022502  \n",
       "2   0.080648   0.001116      0.062793  \n",
       "3   0.045005   0.011085      0.011419  \n",
       "4   0.012310   0.003820      0.002416  "
      ]
     },
     "execution_count": 167,
     "metadata": {},
     "output_type": "execute_result"
    }
   ],
   "source": [
    "df_out['combined'] = (df_out['flair'] + df_out['vader'] + df_out['textblob']) / 3\n",
    "df_out['flair_mse'] = (df_out['flair'] - df_out['combined']) * (df_out['flair'] - df_out['combined'])\n",
    "df_out['vader_mse'] = (df_out['vader'] - df_out['combined']) * (df_out['vader'] - df_out['combined'])\n",
    "df_out['textblob_mse'] = (df_out['textblob'] - df_out['combined']) * (df_out['textblob'] - df_out['combined'])\n",
    "\n",
    "df_out.head()"
   ]
  },
  {
   "cell_type": "code",
   "execution_count": 169,
   "id": "c6739c0e-1cbb-4867-9158-29b2ab8c8b77",
   "metadata": {},
   "outputs": [
    {
     "data": {
      "text/html": [
       "<div>\n",
       "<style scoped>\n",
       "    .dataframe tbody tr th:only-of-type {\n",
       "        vertical-align: middle;\n",
       "    }\n",
       "\n",
       "    .dataframe tbody tr th {\n",
       "        vertical-align: top;\n",
       "    }\n",
       "\n",
       "    .dataframe thead th {\n",
       "        text-align: right;\n",
       "    }\n",
       "</style>\n",
       "<table border=\"1\" class=\"dataframe\">\n",
       "  <thead>\n",
       "    <tr style=\"text-align: right;\">\n",
       "      <th></th>\n",
       "      <th>song_index</th>\n",
       "      <th>flair</th>\n",
       "      <th>vader</th>\n",
       "      <th>textblob</th>\n",
       "      <th>combined</th>\n",
       "      <th>flair_mse</th>\n",
       "      <th>vader_mse</th>\n",
       "      <th>textblob_mse</th>\n",
       "    </tr>\n",
       "  </thead>\n",
       "  <tbody>\n",
       "    <tr>\n",
       "      <th>75</th>\n",
       "      <td>highvalley/grewuponthat</td>\n",
       "      <td>0.781490</td>\n",
       "      <td>0.066798</td>\n",
       "      <td>0.045724</td>\n",
       "      <td>0.298004</td>\n",
       "      <td>0.233759</td>\n",
       "      <td>0.053456</td>\n",
       "      <td>0.063645</td>\n",
       "    </tr>\n",
       "    <tr>\n",
       "      <th>62</th>\n",
       "      <td>popsmoke/somethingspecial</td>\n",
       "      <td>0.735577</td>\n",
       "      <td>0.071358</td>\n",
       "      <td>0.032998</td>\n",
       "      <td>0.279978</td>\n",
       "      <td>0.207571</td>\n",
       "      <td>0.043522</td>\n",
       "      <td>0.060999</td>\n",
       "    </tr>\n",
       "  </tbody>\n",
       "</table>\n",
       "</div>"
      ],
      "text/plain": [
       "                   song_index     flair     vader  textblob  combined  \\\n",
       "75    highvalley/grewuponthat  0.781490  0.066798  0.045724  0.298004   \n",
       "62  popsmoke/somethingspecial  0.735577  0.071358  0.032998  0.279978   \n",
       "\n",
       "    flair_mse  vader_mse  textblob_mse  \n",
       "75   0.233759   0.053456      0.063645  \n",
       "62   0.207571   0.043522      0.060999  "
      ]
     },
     "execution_count": 169,
     "metadata": {},
     "output_type": "execute_result"
    }
   ],
   "source": [
    "df_out.sort_values(['flair_mse'], ascending=False).head(2)"
   ]
  },
  {
   "cell_type": "code",
   "execution_count": 170,
   "id": "fbfbe903-00aa-45e5-b532-a4313fd6adef",
   "metadata": {},
   "outputs": [
    {
     "data": {
      "text/html": [
       "<div>\n",
       "<style scoped>\n",
       "    .dataframe tbody tr th:only-of-type {\n",
       "        vertical-align: middle;\n",
       "    }\n",
       "\n",
       "    .dataframe tbody tr th {\n",
       "        vertical-align: top;\n",
       "    }\n",
       "\n",
       "    .dataframe thead th {\n",
       "        text-align: right;\n",
       "    }\n",
       "</style>\n",
       "<table border=\"1\" class=\"dataframe\">\n",
       "  <thead>\n",
       "    <tr style=\"text-align: right;\">\n",
       "      <th></th>\n",
       "      <th>song_index</th>\n",
       "      <th>flair</th>\n",
       "      <th>vader</th>\n",
       "      <th>textblob</th>\n",
       "      <th>combined</th>\n",
       "      <th>flair_mse</th>\n",
       "      <th>vader_mse</th>\n",
       "      <th>textblob_mse</th>\n",
       "    </tr>\n",
       "  </thead>\n",
       "  <tbody>\n",
       "    <tr>\n",
       "      <th>19</th>\n",
       "      <td>popsmoke/forthenight</td>\n",
       "      <td>0.477935</td>\n",
       "      <td>-0.109602</td>\n",
       "      <td>-0.003272</td>\n",
       "      <td>0.121687</td>\n",
       "      <td>0.126913</td>\n",
       "      <td>0.053495</td>\n",
       "      <td>0.015615</td>\n",
       "    </tr>\n",
       "    <tr>\n",
       "      <th>75</th>\n",
       "      <td>highvalley/grewuponthat</td>\n",
       "      <td>0.781490</td>\n",
       "      <td>0.066798</td>\n",
       "      <td>0.045724</td>\n",
       "      <td>0.298004</td>\n",
       "      <td>0.233759</td>\n",
       "      <td>0.053456</td>\n",
       "      <td>0.063645</td>\n",
       "    </tr>\n",
       "  </tbody>\n",
       "</table>\n",
       "</div>"
      ],
      "text/plain": [
       "                 song_index     flair     vader  textblob  combined  \\\n",
       "19     popsmoke/forthenight  0.477935 -0.109602 -0.003272  0.121687   \n",
       "75  highvalley/grewuponthat  0.781490  0.066798  0.045724  0.298004   \n",
       "\n",
       "    flair_mse  vader_mse  textblob_mse  \n",
       "19   0.126913   0.053495      0.015615  \n",
       "75   0.233759   0.053456      0.063645  "
      ]
     },
     "execution_count": 170,
     "metadata": {},
     "output_type": "execute_result"
    }
   ],
   "source": [
    "df_out.sort_values(['vader_mse'], ascending=False).head(2)"
   ]
  },
  {
   "cell_type": "code",
   "execution_count": 171,
   "id": "2d1c84d3-be0f-48ec-8dbd-45089a1f8739",
   "metadata": {},
   "outputs": [
    {
     "data": {
      "text/html": [
       "<div>\n",
       "<style scoped>\n",
       "    .dataframe tbody tr th:only-of-type {\n",
       "        vertical-align: middle;\n",
       "    }\n",
       "\n",
       "    .dataframe tbody tr th {\n",
       "        vertical-align: top;\n",
       "    }\n",
       "\n",
       "    .dataframe thead th {\n",
       "        text-align: right;\n",
       "    }\n",
       "</style>\n",
       "<table border=\"1\" class=\"dataframe\">\n",
       "  <thead>\n",
       "    <tr style=\"text-align: right;\">\n",
       "      <th></th>\n",
       "      <th>song_index</th>\n",
       "      <th>flair</th>\n",
       "      <th>vader</th>\n",
       "      <th>textblob</th>\n",
       "      <th>combined</th>\n",
       "      <th>flair_mse</th>\n",
       "      <th>vader_mse</th>\n",
       "      <th>textblob_mse</th>\n",
       "    </tr>\n",
       "  </thead>\n",
       "  <tbody>\n",
       "    <tr>\n",
       "      <th>74</th>\n",
       "      <td>keithurban/godwhisperedyourname</td>\n",
       "      <td>0.646084</td>\n",
       "      <td>0.314365</td>\n",
       "      <td>0.026304</td>\n",
       "      <td>0.328918</td>\n",
       "      <td>0.100595</td>\n",
       "      <td>0.000212</td>\n",
       "      <td>0.091575</td>\n",
       "    </tr>\n",
       "    <tr>\n",
       "      <th>60</th>\n",
       "      <td>jonasbrothers/x</td>\n",
       "      <td>0.596392</td>\n",
       "      <td>0.192665</td>\n",
       "      <td>-0.000761</td>\n",
       "      <td>0.262766</td>\n",
       "      <td>0.111306</td>\n",
       "      <td>0.004914</td>\n",
       "      <td>0.069446</td>\n",
       "    </tr>\n",
       "  </tbody>\n",
       "</table>\n",
       "</div>"
      ],
      "text/plain": [
       "                         song_index     flair     vader  textblob  combined  \\\n",
       "74  keithurban/godwhisperedyourname  0.646084  0.314365  0.026304  0.328918   \n",
       "60                  jonasbrothers/x  0.596392  0.192665 -0.000761  0.262766   \n",
       "\n",
       "    flair_mse  vader_mse  textblob_mse  \n",
       "74   0.100595   0.000212      0.091575  \n",
       "60   0.111306   0.004914      0.069446  "
      ]
     },
     "execution_count": 171,
     "metadata": {},
     "output_type": "execute_result"
    }
   ],
   "source": [
    "df_out.sort_values(['textblob_mse'], ascending=False).head(2)"
   ]
  },
  {
   "cell_type": "code",
   "execution_count": null,
   "id": "6cac0eb0-4333-4dd9-b318-ffdfd6f2f9c7",
   "metadata": {},
   "outputs": [],
   "source": []
  },
  {
   "cell_type": "code",
   "execution_count": 174,
   "id": "2d8da1ce-f3be-4b2d-bc90-4bb9966d4419",
   "metadata": {},
   "outputs": [
    {
     "name": "stdout",
     "output_type": "stream",
     "text": [
      "0.04116013385695065\n",
      "0.0095539242233443\n",
      "0.01674504611027381\n"
     ]
    }
   ],
   "source": [
    "print(df_out['flair_mse'].sum()/len(df_out))\n",
    "print(df_out['vader_mse'].sum()/len(df_out))\n",
    "print(df_out['textblob_mse'].sum()/len(df_out))"
   ]
  },
  {
   "cell_type": "markdown",
   "id": "711840ea-2d58-4295-9ae2-88872998a499",
   "metadata": {},
   "source": [
    "### Discussion:\n",
    "Flair and Vader have large MSE **because** they have opinions. Whereas the MSE from textblob looks to be due to rather subdued decision process. Giving a sentiment close to 0 when really, it should be high. For this reason, I'm going to:\n",
    "* remove TextBlob, \n",
    "* keep Flair, divided by 2, and a reduced weight of 1/3rd, compared to Vader\n",
    "* and Vader as is. Weighted 2/3rds."
   ]
  },
  {
   "cell_type": "code",
   "execution_count": null,
   "id": "99f98770-54f9-495c-ae1e-ef9d4db707d9",
   "metadata": {},
   "outputs": [],
   "source": []
  },
  {
   "cell_type": "code",
   "execution_count": 139,
   "id": "9dc63941-eab6-4e75-9944-a46b0c1e3746",
   "metadata": {
    "collapsed": true,
    "jupyter": {
     "outputs_hidden": true
    },
    "tags": []
   },
   "outputs": [
    {
     "data": {
      "text/html": [
       "<div>\n",
       "<style scoped>\n",
       "    .dataframe tbody tr th:only-of-type {\n",
       "        vertical-align: middle;\n",
       "    }\n",
       "\n",
       "    .dataframe tbody tr th {\n",
       "        vertical-align: top;\n",
       "    }\n",
       "\n",
       "    .dataframe thead th {\n",
       "        text-align: right;\n",
       "    }\n",
       "</style>\n",
       "<table border=\"1\" class=\"dataframe\">\n",
       "  <thead>\n",
       "    <tr style=\"text-align: right;\">\n",
       "      <th></th>\n",
       "      <th>song_index</th>\n",
       "      <th>flair</th>\n",
       "      <th>vader</th>\n",
       "      <th>textblob</th>\n",
       "      <th>combined</th>\n",
       "    </tr>\n",
       "  </thead>\n",
       "  <tbody>\n",
       "    <tr>\n",
       "      <th>42</th>\n",
       "      <td>benee/supalonely</td>\n",
       "      <td>-0.270244</td>\n",
       "      <td>-0.197696</td>\n",
       "      <td>-0.112935</td>\n",
       "      <td>-0.193625</td>\n",
       "    </tr>\n",
       "    <tr>\n",
       "      <th>35</th>\n",
       "      <td>juicewrld/stayhigh</td>\n",
       "      <td>-0.352154</td>\n",
       "      <td>-0.122454</td>\n",
       "      <td>-0.075163</td>\n",
       "      <td>-0.183257</td>\n",
       "    </tr>\n",
       "    <tr>\n",
       "      <th>22</th>\n",
       "      <td>megantheestallion/savage</td>\n",
       "      <td>-0.152735</td>\n",
       "      <td>-0.259691</td>\n",
       "      <td>-0.104821</td>\n",
       "      <td>-0.172416</td>\n",
       "    </tr>\n",
       "    <tr>\n",
       "      <th>30</th>\n",
       "      <td>juicewrld/badenergy</td>\n",
       "      <td>-0.212864</td>\n",
       "      <td>-0.168215</td>\n",
       "      <td>-0.118152</td>\n",
       "      <td>-0.166410</td>\n",
       "    </tr>\n",
       "    <tr>\n",
       "      <th>79</th>\n",
       "      <td>nlechoppa/walkemdown</td>\n",
       "      <td>-0.414123</td>\n",
       "      <td>-0.038751</td>\n",
       "      <td>-0.009133</td>\n",
       "      <td>-0.154002</td>\n",
       "    </tr>\n",
       "    <tr>\n",
       "      <th>12</th>\n",
       "      <td>dualipa/dontstartnow</td>\n",
       "      <td>-0.308806</td>\n",
       "      <td>-0.088127</td>\n",
       "      <td>-0.003441</td>\n",
       "      <td>-0.133458</td>\n",
       "    </tr>\n",
       "    <tr>\n",
       "      <th>66</th>\n",
       "      <td>popsmoke/makeitrain</td>\n",
       "      <td>-0.253585</td>\n",
       "      <td>-0.082403</td>\n",
       "      <td>-0.027511</td>\n",
       "      <td>-0.121166</td>\n",
       "    </tr>\n",
       "    <tr>\n",
       "      <th>69</th>\n",
       "      <td>dixiedamelio/behappy</td>\n",
       "      <td>-0.188794</td>\n",
       "      <td>-0.141481</td>\n",
       "      <td>-0.015749</td>\n",
       "      <td>-0.115341</td>\n",
       "    </tr>\n",
       "    <tr>\n",
       "      <th>73</th>\n",
       "      <td>kidlaroi/go</td>\n",
       "      <td>-0.252404</td>\n",
       "      <td>-0.072146</td>\n",
       "      <td>-0.014738</td>\n",
       "      <td>-0.113096</td>\n",
       "    </tr>\n",
       "    <tr>\n",
       "      <th>20</th>\n",
       "      <td>powfu/deathbed</td>\n",
       "      <td>-0.412763</td>\n",
       "      <td>0.071025</td>\n",
       "      <td>0.014057</td>\n",
       "      <td>-0.109227</td>\n",
       "    </tr>\n",
       "  </tbody>\n",
       "</table>\n",
       "</div>"
      ],
      "text/plain": [
       "                  song_index     flair     vader  textblob  combined\n",
       "42          benee/supalonely -0.270244 -0.197696 -0.112935 -0.193625\n",
       "35        juicewrld/stayhigh -0.352154 -0.122454 -0.075163 -0.183257\n",
       "22  megantheestallion/savage -0.152735 -0.259691 -0.104821 -0.172416\n",
       "30       juicewrld/badenergy -0.212864 -0.168215 -0.118152 -0.166410\n",
       "79      nlechoppa/walkemdown -0.414123 -0.038751 -0.009133 -0.154002\n",
       "12      dualipa/dontstartnow -0.308806 -0.088127 -0.003441 -0.133458\n",
       "66       popsmoke/makeitrain -0.253585 -0.082403 -0.027511 -0.121166\n",
       "69      dixiedamelio/behappy -0.188794 -0.141481 -0.015749 -0.115341\n",
       "73               kidlaroi/go -0.252404 -0.072146 -0.014738 -0.113096\n",
       "20            powfu/deathbed -0.412763  0.071025  0.014057 -0.109227"
      ]
     },
     "execution_count": 139,
     "metadata": {},
     "output_type": "execute_result"
    }
   ],
   "source": [
    "df_out.sort_values(['combined'], ascending=True).head(10)"
   ]
  },
  {
   "cell_type": "code",
   "execution_count": 161,
   "id": "357b2ada-8622-440a-9b67-4ddd446b87cb",
   "metadata": {
    "collapsed": true,
    "jupyter": {
     "outputs_hidden": true
    },
    "tags": []
   },
   "outputs": [
    {
     "data": {
      "text/html": [
       "<div>\n",
       "<style scoped>\n",
       "    .dataframe tbody tr th:only-of-type {\n",
       "        vertical-align: middle;\n",
       "    }\n",
       "\n",
       "    .dataframe tbody tr th {\n",
       "        vertical-align: top;\n",
       "    }\n",
       "\n",
       "    .dataframe thead th {\n",
       "        text-align: right;\n",
       "    }\n",
       "</style>\n",
       "<table border=\"1\" class=\"dataframe\">\n",
       "  <thead>\n",
       "    <tr style=\"text-align: right;\">\n",
       "      <th></th>\n",
       "      <th>song_index</th>\n",
       "      <th>flair</th>\n",
       "      <th>vader</th>\n",
       "      <th>textblob</th>\n",
       "      <th>combined</th>\n",
       "    </tr>\n",
       "  </thead>\n",
       "  <tbody>\n",
       "    <tr>\n",
       "      <th>3</th>\n",
       "      <td>harrystyles/watermelonsugar</td>\n",
       "      <td>-0.254719</td>\n",
       "      <td>0.062711</td>\n",
       "      <td>0.064287</td>\n",
       "      <td>-0.042574</td>\n",
       "    </tr>\n",
       "    <tr>\n",
       "      <th>13</th>\n",
       "      <td>dualipa/breakmyheart</td>\n",
       "      <td>-0.016461</td>\n",
       "      <td>0.171824</td>\n",
       "      <td>0.044444</td>\n",
       "      <td>0.066602</td>\n",
       "    </tr>\n",
       "    <tr>\n",
       "      <th>15</th>\n",
       "      <td>topic/breakingme</td>\n",
       "      <td>-0.018072</td>\n",
       "      <td>0.059889</td>\n",
       "      <td>0.007032</td>\n",
       "      <td>0.016283</td>\n",
       "    </tr>\n",
       "    <tr>\n",
       "      <th>20</th>\n",
       "      <td>powfu/deathbed</td>\n",
       "      <td>-0.412763</td>\n",
       "      <td>0.071025</td>\n",
       "      <td>0.014057</td>\n",
       "      <td>-0.109227</td>\n",
       "    </tr>\n",
       "    <tr>\n",
       "      <th>23</th>\n",
       "      <td>postmalone/circles</td>\n",
       "      <td>-0.178851</td>\n",
       "      <td>0.045949</td>\n",
       "      <td>0.001971</td>\n",
       "      <td>-0.043644</td>\n",
       "    </tr>\n",
       "    <tr>\n",
       "      <th>49</th>\n",
       "      <td>kanebrown/belikethat</td>\n",
       "      <td>-0.057339</td>\n",
       "      <td>0.094489</td>\n",
       "      <td>-0.019697</td>\n",
       "      <td>0.005818</td>\n",
       "    </tr>\n",
       "    <tr>\n",
       "      <th>55</th>\n",
       "      <td>diplo/dancewithme</td>\n",
       "      <td>-0.129197</td>\n",
       "      <td>0.082108</td>\n",
       "      <td>0.016787</td>\n",
       "      <td>-0.010101</td>\n",
       "    </tr>\n",
       "    <tr>\n",
       "      <th>64</th>\n",
       "      <td>dontoliver/afterparty</td>\n",
       "      <td>-0.014561</td>\n",
       "      <td>0.360363</td>\n",
       "      <td>0.114078</td>\n",
       "      <td>0.153294</td>\n",
       "    </tr>\n",
       "  </tbody>\n",
       "</table>\n",
       "</div>"
      ],
      "text/plain": [
       "                     song_index     flair     vader  textblob  combined\n",
       "3   harrystyles/watermelonsugar -0.254719  0.062711  0.064287 -0.042574\n",
       "13         dualipa/breakmyheart -0.016461  0.171824  0.044444  0.066602\n",
       "15             topic/breakingme -0.018072  0.059889  0.007032  0.016283\n",
       "20               powfu/deathbed -0.412763  0.071025  0.014057 -0.109227\n",
       "23           postmalone/circles -0.178851  0.045949  0.001971 -0.043644\n",
       "49         kanebrown/belikethat -0.057339  0.094489 -0.019697  0.005818\n",
       "55            diplo/dancewithme -0.129197  0.082108  0.016787 -0.010101\n",
       "64        dontoliver/afterparty -0.014561  0.360363  0.114078  0.153294"
      ]
     },
     "execution_count": 161,
     "metadata": {},
     "output_type": "execute_result"
    }
   ],
   "source": [
    "df_out.loc[\n",
    "    (df_out['flair'] < 0) & \n",
    "    (df_out['vader'] > 0)\n",
    "]"
   ]
  },
  {
   "cell_type": "code",
   "execution_count": 162,
   "id": "5cbf8e17-118b-4e07-9902-d6cac64bc78b",
   "metadata": {
    "collapsed": true,
    "jupyter": {
     "outputs_hidden": true
    },
    "tags": []
   },
   "outputs": [
    {
     "data": {
      "text/html": [
       "<div>\n",
       "<style scoped>\n",
       "    .dataframe tbody tr th:only-of-type {\n",
       "        vertical-align: middle;\n",
       "    }\n",
       "\n",
       "    .dataframe tbody tr th {\n",
       "        vertical-align: top;\n",
       "    }\n",
       "\n",
       "    .dataframe thead th {\n",
       "        text-align: right;\n",
       "    }\n",
       "</style>\n",
       "<table border=\"1\" class=\"dataframe\">\n",
       "  <thead>\n",
       "    <tr style=\"text-align: right;\">\n",
       "      <th></th>\n",
       "      <th>song_index</th>\n",
       "      <th>flair</th>\n",
       "      <th>vader</th>\n",
       "      <th>textblob</th>\n",
       "      <th>combined</th>\n",
       "    </tr>\n",
       "  </thead>\n",
       "  <tbody>\n",
       "    <tr>\n",
       "      <th>0</th>\n",
       "      <td>saintjhn/roses</td>\n",
       "      <td>0.042620</td>\n",
       "      <td>-0.056735</td>\n",
       "      <td>0.001635</td>\n",
       "      <td>-0.004160</td>\n",
       "    </tr>\n",
       "    <tr>\n",
       "      <th>4</th>\n",
       "      <td>jackharlow/whatspoppin</td>\n",
       "      <td>0.139775</td>\n",
       "      <td>-0.032980</td>\n",
       "      <td>-0.020325</td>\n",
       "      <td>0.028823</td>\n",
       "    </tr>\n",
       "    <tr>\n",
       "      <th>9</th>\n",
       "      <td>juicewrld/hatetheotherside</td>\n",
       "      <td>0.068641</td>\n",
       "      <td>-0.175021</td>\n",
       "      <td>-0.021653</td>\n",
       "      <td>-0.042677</td>\n",
       "    </tr>\n",
       "    <tr>\n",
       "      <th>19</th>\n",
       "      <td>popsmoke/forthenight</td>\n",
       "      <td>0.477935</td>\n",
       "      <td>-0.109602</td>\n",
       "      <td>-0.003272</td>\n",
       "      <td>0.121687</td>\n",
       "    </tr>\n",
       "    <tr>\n",
       "      <th>25</th>\n",
       "      <td>juicewrld/titanic</td>\n",
       "      <td>0.145246</td>\n",
       "      <td>-0.139022</td>\n",
       "      <td>-0.015903</td>\n",
       "      <td>-0.003227</td>\n",
       "    </tr>\n",
       "    <tr>\n",
       "      <th>26</th>\n",
       "      <td>drake/toosieslide</td>\n",
       "      <td>0.160004</td>\n",
       "      <td>-0.023633</td>\n",
       "      <td>-0.021527</td>\n",
       "      <td>0.038281</td>\n",
       "    </tr>\n",
       "    <tr>\n",
       "      <th>27</th>\n",
       "      <td>juicewrld/bloodonmyjeans</td>\n",
       "      <td>0.104744</td>\n",
       "      <td>-0.006881</td>\n",
       "      <td>0.006187</td>\n",
       "      <td>0.034683</td>\n",
       "    </tr>\n",
       "    <tr>\n",
       "      <th>28</th>\n",
       "      <td>lewiscapaldi/beforeyougo</td>\n",
       "      <td>0.041996</td>\n",
       "      <td>-0.066602</td>\n",
       "      <td>-0.070610</td>\n",
       "      <td>-0.031739</td>\n",
       "    </tr>\n",
       "    <tr>\n",
       "      <th>31</th>\n",
       "      <td>popsmoke/gotitonme</td>\n",
       "      <td>0.044951</td>\n",
       "      <td>-0.015293</td>\n",
       "      <td>-0.042583</td>\n",
       "      <td>-0.004308</td>\n",
       "    </tr>\n",
       "    <tr>\n",
       "      <th>32</th>\n",
       "      <td>lilmosey/blueberryfaygo</td>\n",
       "      <td>0.162302</td>\n",
       "      <td>-0.247553</td>\n",
       "      <td>-0.026474</td>\n",
       "      <td>-0.037241</td>\n",
       "    </tr>\n",
       "    <tr>\n",
       "      <th>34</th>\n",
       "      <td>jpsaxe/iftheworldwasending</td>\n",
       "      <td>0.261627</td>\n",
       "      <td>-0.018404</td>\n",
       "      <td>0.028602</td>\n",
       "      <td>0.090608</td>\n",
       "    </tr>\n",
       "    <tr>\n",
       "      <th>37</th>\n",
       "      <td>regard/rideit</td>\n",
       "      <td>0.523230</td>\n",
       "      <td>-0.050662</td>\n",
       "      <td>0.011255</td>\n",
       "      <td>0.161274</td>\n",
       "    </tr>\n",
       "    <tr>\n",
       "      <th>41</th>\n",
       "      <td>juicewrld/upupandaway</td>\n",
       "      <td>0.351310</td>\n",
       "      <td>-0.071492</td>\n",
       "      <td>0.003674</td>\n",
       "      <td>0.094498</td>\n",
       "    </tr>\n",
       "    <tr>\n",
       "      <th>43</th>\n",
       "      <td>juicewrld/iwantit</td>\n",
       "      <td>0.272984</td>\n",
       "      <td>-0.081118</td>\n",
       "      <td>-0.055613</td>\n",
       "      <td>0.045418</td>\n",
       "    </tr>\n",
       "    <tr>\n",
       "      <th>44</th>\n",
       "      <td>juicewrld/screwjuice</td>\n",
       "      <td>0.230528</td>\n",
       "      <td>-0.105505</td>\n",
       "      <td>0.006542</td>\n",
       "      <td>0.043855</td>\n",
       "    </tr>\n",
       "    <tr>\n",
       "      <th>47</th>\n",
       "      <td>popsmoke/gangstas</td>\n",
       "      <td>0.023338</td>\n",
       "      <td>-0.128855</td>\n",
       "      <td>-0.008609</td>\n",
       "      <td>-0.038042</td>\n",
       "    </tr>\n",
       "    <tr>\n",
       "      <th>50</th>\n",
       "      <td>loudluxury/aftertaste</td>\n",
       "      <td>0.205527</td>\n",
       "      <td>-0.037771</td>\n",
       "      <td>-0.083814</td>\n",
       "      <td>0.027981</td>\n",
       "    </tr>\n",
       "    <tr>\n",
       "      <th>80</th>\n",
       "      <td>mackenzieporter/seeingotherpeople</td>\n",
       "      <td>0.212793</td>\n",
       "      <td>-0.081566</td>\n",
       "      <td>-0.053892</td>\n",
       "      <td>0.025779</td>\n",
       "    </tr>\n",
       "  </tbody>\n",
       "</table>\n",
       "</div>"
      ],
      "text/plain": [
       "                           song_index     flair     vader  textblob  combined\n",
       "0                      saintjhn/roses  0.042620 -0.056735  0.001635 -0.004160\n",
       "4              jackharlow/whatspoppin  0.139775 -0.032980 -0.020325  0.028823\n",
       "9          juicewrld/hatetheotherside  0.068641 -0.175021 -0.021653 -0.042677\n",
       "19               popsmoke/forthenight  0.477935 -0.109602 -0.003272  0.121687\n",
       "25                  juicewrld/titanic  0.145246 -0.139022 -0.015903 -0.003227\n",
       "26                  drake/toosieslide  0.160004 -0.023633 -0.021527  0.038281\n",
       "27           juicewrld/bloodonmyjeans  0.104744 -0.006881  0.006187  0.034683\n",
       "28           lewiscapaldi/beforeyougo  0.041996 -0.066602 -0.070610 -0.031739\n",
       "31                 popsmoke/gotitonme  0.044951 -0.015293 -0.042583 -0.004308\n",
       "32            lilmosey/blueberryfaygo  0.162302 -0.247553 -0.026474 -0.037241\n",
       "34         jpsaxe/iftheworldwasending  0.261627 -0.018404  0.028602  0.090608\n",
       "37                      regard/rideit  0.523230 -0.050662  0.011255  0.161274\n",
       "41              juicewrld/upupandaway  0.351310 -0.071492  0.003674  0.094498\n",
       "43                  juicewrld/iwantit  0.272984 -0.081118 -0.055613  0.045418\n",
       "44               juicewrld/screwjuice  0.230528 -0.105505  0.006542  0.043855\n",
       "47                  popsmoke/gangstas  0.023338 -0.128855 -0.008609 -0.038042\n",
       "50              loudluxury/aftertaste  0.205527 -0.037771 -0.083814  0.027981\n",
       "80  mackenzieporter/seeingotherpeople  0.212793 -0.081566 -0.053892  0.025779"
      ]
     },
     "execution_count": 162,
     "metadata": {},
     "output_type": "execute_result"
    }
   ],
   "source": [
    "df_out.loc[\n",
    "    (df_out['flair'] > 0) & \n",
    "    (df_out['vader'] < 0)\n",
    "]"
   ]
  },
  {
   "cell_type": "code",
   "execution_count": 163,
   "id": "10f787c4-3f61-4460-896f-a6d86af5e9f6",
   "metadata": {
    "collapsed": true,
    "jupyter": {
     "outputs_hidden": true
    },
    "tags": []
   },
   "outputs": [
    {
     "data": {
      "text/html": [
       "<div>\n",
       "<style scoped>\n",
       "    .dataframe tbody tr th:only-of-type {\n",
       "        vertical-align: middle;\n",
       "    }\n",
       "\n",
       "    .dataframe tbody tr th {\n",
       "        vertical-align: top;\n",
       "    }\n",
       "\n",
       "    .dataframe thead th {\n",
       "        text-align: right;\n",
       "    }\n",
       "</style>\n",
       "<table border=\"1\" class=\"dataframe\">\n",
       "  <thead>\n",
       "    <tr style=\"text-align: right;\">\n",
       "      <th></th>\n",
       "      <th>song_index</th>\n",
       "      <th>flair</th>\n",
       "      <th>vader</th>\n",
       "      <th>textblob</th>\n",
       "      <th>combined</th>\n",
       "    </tr>\n",
       "  </thead>\n",
       "  <tbody>\n",
       "    <tr>\n",
       "      <th>0</th>\n",
       "      <td>saintjhn/roses</td>\n",
       "      <td>0.042620</td>\n",
       "      <td>-0.056735</td>\n",
       "      <td>0.001635</td>\n",
       "      <td>-0.004160</td>\n",
       "    </tr>\n",
       "    <tr>\n",
       "      <th>10</th>\n",
       "      <td>juicewrld/conversations</td>\n",
       "      <td>-0.192305</td>\n",
       "      <td>-0.036585</td>\n",
       "      <td>0.004675</td>\n",
       "      <td>-0.074738</td>\n",
       "    </tr>\n",
       "    <tr>\n",
       "      <th>27</th>\n",
       "      <td>juicewrld/bloodonmyjeans</td>\n",
       "      <td>0.104744</td>\n",
       "      <td>-0.006881</td>\n",
       "      <td>0.006187</td>\n",
       "      <td>0.034683</td>\n",
       "    </tr>\n",
       "    <tr>\n",
       "      <th>34</th>\n",
       "      <td>jpsaxe/iftheworldwasending</td>\n",
       "      <td>0.261627</td>\n",
       "      <td>-0.018404</td>\n",
       "      <td>0.028602</td>\n",
       "      <td>0.090608</td>\n",
       "    </tr>\n",
       "    <tr>\n",
       "      <th>37</th>\n",
       "      <td>regard/rideit</td>\n",
       "      <td>0.523230</td>\n",
       "      <td>-0.050662</td>\n",
       "      <td>0.011255</td>\n",
       "      <td>0.161274</td>\n",
       "    </tr>\n",
       "    <tr>\n",
       "      <th>41</th>\n",
       "      <td>juicewrld/upupandaway</td>\n",
       "      <td>0.351310</td>\n",
       "      <td>-0.071492</td>\n",
       "      <td>0.003674</td>\n",
       "      <td>0.094498</td>\n",
       "    </tr>\n",
       "    <tr>\n",
       "      <th>44</th>\n",
       "      <td>juicewrld/screwjuice</td>\n",
       "      <td>0.230528</td>\n",
       "      <td>-0.105505</td>\n",
       "      <td>0.006542</td>\n",
       "      <td>0.043855</td>\n",
       "    </tr>\n",
       "    <tr>\n",
       "      <th>78</th>\n",
       "      <td>scotthelman/waitnomore</td>\n",
       "      <td>-0.148208</td>\n",
       "      <td>-0.038060</td>\n",
       "      <td>0.026997</td>\n",
       "      <td>-0.053090</td>\n",
       "    </tr>\n",
       "  </tbody>\n",
       "</table>\n",
       "</div>"
      ],
      "text/plain": [
       "                    song_index     flair     vader  textblob  combined\n",
       "0               saintjhn/roses  0.042620 -0.056735  0.001635 -0.004160\n",
       "10     juicewrld/conversations -0.192305 -0.036585  0.004675 -0.074738\n",
       "27    juicewrld/bloodonmyjeans  0.104744 -0.006881  0.006187  0.034683\n",
       "34  jpsaxe/iftheworldwasending  0.261627 -0.018404  0.028602  0.090608\n",
       "37               regard/rideit  0.523230 -0.050662  0.011255  0.161274\n",
       "41       juicewrld/upupandaway  0.351310 -0.071492  0.003674  0.094498\n",
       "44        juicewrld/screwjuice  0.230528 -0.105505  0.006542  0.043855\n",
       "78      scotthelman/waitnomore -0.148208 -0.038060  0.026997 -0.053090"
      ]
     },
     "execution_count": 163,
     "metadata": {},
     "output_type": "execute_result"
    }
   ],
   "source": [
    "df_out.loc[\n",
    "    (df_out['textblob'] > 0) & \n",
    "    (df_out['vader'] < 0)\n",
    "]"
   ]
  },
  {
   "cell_type": "code",
   "execution_count": 164,
   "id": "86d7fd64-649a-461a-a696-d85943a23d3e",
   "metadata": {
    "collapsed": true,
    "jupyter": {
     "outputs_hidden": true
    },
    "tags": []
   },
   "outputs": [
    {
     "data": {
      "text/html": [
       "<div>\n",
       "<style scoped>\n",
       "    .dataframe tbody tr th:only-of-type {\n",
       "        vertical-align: middle;\n",
       "    }\n",
       "\n",
       "    .dataframe tbody tr th {\n",
       "        vertical-align: top;\n",
       "    }\n",
       "\n",
       "    .dataframe thead th {\n",
       "        text-align: right;\n",
       "    }\n",
       "</style>\n",
       "<table border=\"1\" class=\"dataframe\">\n",
       "  <thead>\n",
       "    <tr style=\"text-align: right;\">\n",
       "      <th></th>\n",
       "      <th>song_index</th>\n",
       "      <th>flair</th>\n",
       "      <th>vader</th>\n",
       "      <th>textblob</th>\n",
       "      <th>combined</th>\n",
       "    </tr>\n",
       "  </thead>\n",
       "  <tbody>\n",
       "    <tr>\n",
       "      <th>16</th>\n",
       "      <td>kidcudi/theadventuresofmoonmanslimshady</td>\n",
       "      <td>0.100686</td>\n",
       "      <td>0.002522</td>\n",
       "      <td>-0.014298</td>\n",
       "      <td>0.029637</td>\n",
       "    </tr>\n",
       "    <tr>\n",
       "      <th>21</th>\n",
       "      <td>marshmello/bekind</td>\n",
       "      <td>0.423997</td>\n",
       "      <td>0.022508</td>\n",
       "      <td>-0.015556</td>\n",
       "      <td>0.143649</td>\n",
       "    </tr>\n",
       "    <tr>\n",
       "      <th>33</th>\n",
       "      <td>lukebryan/onemargarita</td>\n",
       "      <td>0.312550</td>\n",
       "      <td>0.045896</td>\n",
       "      <td>-0.000583</td>\n",
       "      <td>0.119288</td>\n",
       "    </tr>\n",
       "    <tr>\n",
       "      <th>45</th>\n",
       "      <td>juicewrld/manoftheyear</td>\n",
       "      <td>0.477005</td>\n",
       "      <td>0.057243</td>\n",
       "      <td>-0.005455</td>\n",
       "      <td>0.176264</td>\n",
       "    </tr>\n",
       "    <tr>\n",
       "      <th>49</th>\n",
       "      <td>kanebrown/belikethat</td>\n",
       "      <td>-0.057339</td>\n",
       "      <td>0.094489</td>\n",
       "      <td>-0.019697</td>\n",
       "      <td>0.005818</td>\n",
       "    </tr>\n",
       "    <tr>\n",
       "      <th>51</th>\n",
       "      <td>curtiswaters/stunnin</td>\n",
       "      <td>0.103267</td>\n",
       "      <td>0.087700</td>\n",
       "      <td>-0.005197</td>\n",
       "      <td>0.061923</td>\n",
       "    </tr>\n",
       "    <tr>\n",
       "      <th>52</th>\n",
       "      <td>lilbaby/wepaid</td>\n",
       "      <td>0.110093</td>\n",
       "      <td>0.029386</td>\n",
       "      <td>-0.003067</td>\n",
       "      <td>0.045471</td>\n",
       "    </tr>\n",
       "    <tr>\n",
       "      <th>57</th>\n",
       "      <td>chrisbrown/gocrazy</td>\n",
       "      <td>0.682925</td>\n",
       "      <td>0.020357</td>\n",
       "      <td>-0.018803</td>\n",
       "      <td>0.228160</td>\n",
       "    </tr>\n",
       "    <tr>\n",
       "      <th>60</th>\n",
       "      <td>jonasbrothers/x</td>\n",
       "      <td>0.596392</td>\n",
       "      <td>0.192665</td>\n",
       "      <td>-0.000761</td>\n",
       "      <td>0.262766</td>\n",
       "    </tr>\n",
       "    <tr>\n",
       "      <th>82</th>\n",
       "      <td>popsmoke/yeayea</td>\n",
       "      <td>0.390320</td>\n",
       "      <td>0.059595</td>\n",
       "      <td>-0.010271</td>\n",
       "      <td>0.146548</td>\n",
       "    </tr>\n",
       "  </tbody>\n",
       "</table>\n",
       "</div>"
      ],
      "text/plain": [
       "                                 song_index     flair     vader  textblob  \\\n",
       "16  kidcudi/theadventuresofmoonmanslimshady  0.100686  0.002522 -0.014298   \n",
       "21                        marshmello/bekind  0.423997  0.022508 -0.015556   \n",
       "33                   lukebryan/onemargarita  0.312550  0.045896 -0.000583   \n",
       "45                   juicewrld/manoftheyear  0.477005  0.057243 -0.005455   \n",
       "49                     kanebrown/belikethat -0.057339  0.094489 -0.019697   \n",
       "51                     curtiswaters/stunnin  0.103267  0.087700 -0.005197   \n",
       "52                           lilbaby/wepaid  0.110093  0.029386 -0.003067   \n",
       "57                       chrisbrown/gocrazy  0.682925  0.020357 -0.018803   \n",
       "60                          jonasbrothers/x  0.596392  0.192665 -0.000761   \n",
       "82                          popsmoke/yeayea  0.390320  0.059595 -0.010271   \n",
       "\n",
       "    combined  \n",
       "16  0.029637  \n",
       "21  0.143649  \n",
       "33  0.119288  \n",
       "45  0.176264  \n",
       "49  0.005818  \n",
       "51  0.061923  \n",
       "52  0.045471  \n",
       "57  0.228160  \n",
       "60  0.262766  \n",
       "82  0.146548  "
      ]
     },
     "execution_count": 164,
     "metadata": {},
     "output_type": "execute_result"
    }
   ],
   "source": [
    "df_out.loc[\n",
    "    (df_out['textblob'] < 0) & \n",
    "    (df_out['vader'] > 0)\n",
    "]"
   ]
  },
  {
   "cell_type": "code",
   "execution_count": null,
   "id": "cc14bf01-20dc-4c2d-a7d6-20fd00de64cf",
   "metadata": {},
   "outputs": [],
   "source": []
  },
  {
   "cell_type": "markdown",
   "id": "dfa49bea-7eaf-44b9-a6a4-6534a8f771d8",
   "metadata": {},
   "source": [
    "## Test querying the test_data"
   ]
  },
  {
   "cell_type": "code",
   "execution_count": 3,
   "id": "913ef821-cb2b-4400-aefe-220a4e466c60",
   "metadata": {},
   "outputs": [],
   "source": [
    "import sqlite3\n",
    "con = sqlite3.connect(\"test_data/sentiment_compare.db\")\n",
    "cur = con.cursor()\n",
    "cur.execute(f\"SELECT song_index FROM sentiment_compare;\") #WHERE song_index = {song_index}\n"
   ]
  },
  {
   "cell_type": "code",
   "execution_count": 17,
   "id": "1a9a4ec9-cb0a-4472-a254-d52a089d8f5a",
   "metadata": {},
   "outputs": [
    {
     "data": {
      "text/plain": [
       "<sqlite3.Cursor at 0x7fc5806d78f0>"
      ]
     },
     "execution_count": 17,
     "metadata": {},
     "output_type": "execute_result"
    }
   ],
   "source": [
    "song_index = 'saintjhn/roses'\n",
    "cur.execute(f\"SELECT song_index FROM sentiment_compare WHERE song_index = '{song_index}';\")"
   ]
  },
  {
   "cell_type": "code",
   "execution_count": 18,
   "id": "1e4f518c-dcfe-49af-ae2e-ec8ac3f9abb4",
   "metadata": {},
   "outputs": [
    {
     "name": "stdout",
     "output_type": "stream",
     "text": [
      "yes\n"
     ]
    }
   ],
   "source": [
    "if list(cur):\n",
    "    print('yes')"
   ]
  },
  {
   "cell_type": "code",
   "execution_count": 20,
   "id": "400090c8-67d8-4018-bbc9-dfa49e483817",
   "metadata": {},
   "outputs": [
    {
     "data": {
      "text/plain": [
       "False"
      ]
     },
     "execution_count": 20,
     "metadata": {},
     "output_type": "execute_result"
    }
   ],
   "source": [
    "bool([])"
   ]
  },
  {
   "cell_type": "code",
   "execution_count": null,
   "id": "0a02f4f2-349e-4929-ad6c-45a9bbb24966",
   "metadata": {},
   "outputs": [],
   "source": []
  }
 ],
 "metadata": {
  "kernelspec": {
   "display_name": "Python 3 (ipykernel)",
   "language": "python",
   "name": "python3"
  },
  "language_info": {
   "codemirror_mode": {
    "name": "ipython",
    "version": 3
   },
   "file_extension": ".py",
   "mimetype": "text/x-python",
   "name": "python",
   "nbconvert_exporter": "python",
   "pygments_lexer": "ipython3",
   "version": "3.9.13"
  }
 },
 "nbformat": 4,
 "nbformat_minor": 5
}
