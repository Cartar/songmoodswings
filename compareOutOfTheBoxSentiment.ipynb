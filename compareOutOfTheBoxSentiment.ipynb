{
 "cells": [
  {
   "cell_type": "markdown",
   "id": "9c92299a-32f3-4936-aae3-26f069eaeb70",
   "metadata": {},
   "source": [
    "## Comparing Flair, VADER, and TextBlob\n",
    "3 out of the box ready to use sentiment analysis models."
   ]
  },
  {
   "cell_type": "code",
   "execution_count": 54,
   "id": "75d882e0-d472-4328-91de-823e3701424c",
   "metadata": {},
   "outputs": [
    {
     "data": {
      "text/html": [
       "<div>\n",
       "<style scoped>\n",
       "    .dataframe tbody tr th:only-of-type {\n",
       "        vertical-align: middle;\n",
       "    }\n",
       "\n",
       "    .dataframe tbody tr th {\n",
       "        vertical-align: top;\n",
       "    }\n",
       "\n",
       "    .dataframe thead th {\n",
       "        text-align: right;\n",
       "    }\n",
       "</style>\n",
       "<table border=\"1\" class=\"dataframe\">\n",
       "  <thead>\n",
       "    <tr style=\"text-align: right;\">\n",
       "      <th></th>\n",
       "      <th>song_index</th>\n",
       "      <th>lyrics</th>\n",
       "    </tr>\n",
       "  </thead>\n",
       "  <tbody>\n",
       "    <tr>\n",
       "      <th>95</th>\n",
       "      <td>nlechoppa/walkemdown</td>\n",
       "      <td>\\n\\r\\nCashMoneyAP\\nOoh, ooh, no, no\\nNLE the T...</td>\n",
       "    </tr>\n",
       "    <tr>\n",
       "      <th>96</th>\n",
       "      <td>tydollaign/egodeath</td>\n",
       "      <td>!1</td>\n",
       "    </tr>\n",
       "    <tr>\n",
       "      <th>97</th>\n",
       "      <td>mackenzieporter/seeingotherpeople</td>\n",
       "      <td>\\n\\r\\nOh my God she's so pretty and you're hol...</td>\n",
       "    </tr>\n",
       "    <tr>\n",
       "      <th>98</th>\n",
       "      <td>felixcartal/mine</td>\n",
       "      <td>\\n\\r\\nI remember we were too broke to have a c...</td>\n",
       "    </tr>\n",
       "    <tr>\n",
       "      <th>99</th>\n",
       "      <td>popsmoke/yeayea</td>\n",
       "      <td>\\n\\r\\n(Yeah) Uh-huh, uh-huh\\n(Yeah) Uh, uh, uh...</td>\n",
       "    </tr>\n",
       "  </tbody>\n",
       "</table>\n",
       "</div>"
      ],
      "text/plain": [
       "                           song_index  \\\n",
       "95               nlechoppa/walkemdown   \n",
       "96                tydollaign/egodeath   \n",
       "97  mackenzieporter/seeingotherpeople   \n",
       "98                   felixcartal/mine   \n",
       "99                    popsmoke/yeayea   \n",
       "\n",
       "                                               lyrics  \n",
       "95  \\n\\r\\nCashMoneyAP\\nOoh, ooh, no, no\\nNLE the T...  \n",
       "96                                                 !1  \n",
       "97  \\n\\r\\nOh my God she's so pretty and you're hol...  \n",
       "98  \\n\\r\\nI remember we were too broke to have a c...  \n",
       "99  \\n\\r\\n(Yeah) Uh-huh, uh-huh\\n(Yeah) Uh, uh, uh...  "
      ]
     },
     "execution_count": 54,
     "metadata": {},
     "output_type": "execute_result"
    }
   ],
   "source": [
    "# load data:\n",
    "import pandas as pd\n",
    "import sqlite3\n",
    "con = sqlite3.connect(\"test_data/sentiment_compare.db\")\n",
    "df = pd.read_sql(\"select * from sentiment_compare\", con)\n",
    "df.tail()"
   ]
  },
  {
   "cell_type": "code",
   "execution_count": 55,
   "id": "b3100225-831c-41a6-9d4a-b012c6dffccd",
   "metadata": {},
   "outputs": [],
   "source": [
    "df_test = df[df.lyrics != '!1']"
   ]
  },
  {
   "cell_type": "code",
   "execution_count": 56,
   "id": "2fd23fa3-3d30-48bc-a6a8-aaebe166d106",
   "metadata": {},
   "outputs": [
    {
     "data": {
      "text/plain": [
       "83"
      ]
     },
     "execution_count": 56,
     "metadata": {},
     "output_type": "execute_result"
    }
   ],
   "source": [
    "len(df_test) #not bad!"
   ]
  },
  {
   "cell_type": "code",
   "execution_count": null,
   "id": "f400c4c0-273c-430a-89c1-3cd806a55f87",
   "metadata": {},
   "outputs": [],
   "source": [
    "# Clean up lyrics: TBD"
   ]
  },
  {
   "cell_type": "code",
   "execution_count": null,
   "id": "93363444-0d4d-4592-bf61-73d794ce5582",
   "metadata": {},
   "outputs": [],
   "source": []
  },
  {
   "cell_type": "code",
   "execution_count": 5,
   "id": "d56cc781-1d3c-4d59-b0e8-d3eeddd51b1e",
   "metadata": {},
   "outputs": [],
   "source": [
    "import torch\n",
    "from flair.models import TextClassifier\n",
    "from flair.data import Sentence"
   ]
  },
  {
   "cell_type": "code",
   "execution_count": 3,
   "id": "3eeb65a5-6e6b-4df3-9994-3ca3975da229",
   "metadata": {},
   "outputs": [
    {
     "name": "stdout",
     "output_type": "stream",
     "text": [
      "2022-10-06 11:05:14,928 https://nlp.informatik.hu-berlin.de/resources/models/sentiment-curated-distilbert/sentiment-en-mix-distillbert_4.pt not found in cache, downloading to /var/folders/xl/qrck89yn5kq2bhd8vf0657700000gn/T/tmp0_dv8kx4\n"
     ]
    },
    {
     "name": "stderr",
     "output_type": "stream",
     "text": [
      "100%|███████████████████████| 265512723/265512723 [00:48<00:00, 5483381.04B/s]"
     ]
    },
    {
     "name": "stdout",
     "output_type": "stream",
     "text": [
      "2022-10-06 11:06:03,890 copying /var/folders/xl/qrck89yn5kq2bhd8vf0657700000gn/T/tmp0_dv8kx4 to cache at /Users/williamcartar/.flair/models/sentiment-en-mix-distillbert_4.pt\n"
     ]
    },
    {
     "name": "stderr",
     "output_type": "stream",
     "text": [
      "\n"
     ]
    },
    {
     "name": "stdout",
     "output_type": "stream",
     "text": [
      "2022-10-06 11:06:04,027 removing temp file /var/folders/xl/qrck89yn5kq2bhd8vf0657700000gn/T/tmp0_dv8kx4\n",
      "2022-10-06 11:06:04,045 loading file /Users/williamcartar/.flair/models/sentiment-en-mix-distillbert_4.pt\n"
     ]
    },
    {
     "name": "stderr",
     "output_type": "stream",
     "text": [
      "Downloading: 100%|█████████████████████████| 28.0/28.0 [00:00<00:00, 13.5kB/s]\n",
      "Downloading: 100%|████████████████████████████| 483/483 [00:00<00:00, 209kB/s]\n",
      "Downloading: 100%|██████████████████████████| 232k/232k [00:00<00:00, 465kB/s]\n",
      "Downloading: 100%|█████████████████████████| 466k/466k [00:00<00:00, 1.04MB/s]\n"
     ]
    }
   ],
   "source": [
    "# load tagger\n",
    "classifier = TextClassifier.load('sentiment')"
   ]
  },
  {
   "cell_type": "code",
   "execution_count": 6,
   "id": "26d0ce89-c7fb-4b22-90c0-4fe972ea96da",
   "metadata": {},
   "outputs": [
    {
     "name": "stdout",
     "output_type": "stream",
     "text": [
      "Sentence: \"enormously entertaining for moviegoers of any age .\" → POSITIVE (0.9976)\n"
     ]
    }
   ],
   "source": [
    "# make example sentence\n",
    "sentence = Sentence(\"enormously entertaining for moviegoers of any age.\")\n",
    "\n",
    "# call predict\n",
    "classifier.predict(sentence)\n",
    "\n",
    "# check prediction\n",
    "print(sentence)"
   ]
  },
  {
   "cell_type": "code",
   "execution_count": 12,
   "id": "54ecd72f-fef7-41d9-9a3b-aa481fad603f",
   "metadata": {},
   "outputs": [
    {
     "name": "stdout",
     "output_type": "stream",
     "text": [
      "POSITIVE\n",
      "0.9975771307945251\n"
     ]
    }
   ],
   "source": [
    "print(sentence.tag) # str\n",
    "print(sentence.score) # float"
   ]
  },
  {
   "cell_type": "code",
   "execution_count": 18,
   "id": "d3982426-29d3-4a4d-9c5c-ef1b0971d8da",
   "metadata": {},
   "outputs": [],
   "source": [
    "song1 = \"\"\"\n",
    "I don't want a lot for Christmas\n",
    "There is just one thing I need\n",
    "I don't care about the presents\n",
    "Underneath the Christmas tree\n",
    "\n",
    "I just want you for my own\n",
    "More than you could ever know\n",
    "Make my wish come true\n",
    "All I want for Christmas is you, yeah\n",
    "\n",
    "I don't want a lot for Christmas\n",
    "There is just one thing I need\n",
    "And I don't care about the presents\n",
    "Underneath the Christmas tree\n",
    "\n",
    "I don't need to hang my stocking\n",
    "There upon the fireplace\n",
    "Santa Claus won't make me happy\n",
    "With a toy on Christmas Day\n",
    "\n",
    "I just want you for my own\n",
    "More than you could ever know\n",
    "Make my wish come true\n",
    "All I want for Christmas is you\n",
    "You, baby\n",
    "\n",
    "Oh, I won't ask for much this Christmas\n",
    "I won't even wish for snow\n",
    "And I'm just gonna keep on waiting\n",
    "Underneath the mistletoe\n",
    "\n",
    "I won't make a list and send it\n",
    "To the North Pole for Saint Nick\n",
    "I won't even stay awake to\n",
    "Hear those magic reindeer click\n",
    "\n",
    "'Cause I just want you here tonight\n",
    "Holding on to me so tight\n",
    "What more can I do?\n",
    "Baby, all I want for Christmas is you\n",
    "You, baby\n",
    "\n",
    "Oh, all the lights are shining so brightly everywhere\n",
    "And the sound of children's laughter fills the air\n",
    "\n",
    "And everyone is singing\n",
    "I hear those sleigh bells ringing\n",
    "Santa, won't you bring me the one I really need?\n",
    "Won't you please bring my baby to me?\n",
    "\n",
    "Oh, I don't want a lot for Christmas\n",
    "This is all I'm asking for\n",
    "I just wanna see my baby\n",
    "Standing right outside my door\n",
    "\n",
    "Oh, I just want you for my own\n",
    "More than you could ever know\n",
    "Make my wish come true\n",
    "Baby, all I want for Christmas is you\n",
    "You, baby\n",
    "\n",
    "All I want for Christmas is you, baby [repeat with ad-libs until fade]\"\"\""
   ]
  },
  {
   "cell_type": "code",
   "execution_count": 26,
   "id": "24a33b85-5517-4015-9a0f-031de32b6caf",
   "metadata": {},
   "outputs": [],
   "source": [
    "song2 = \"\"\"\n",
    "\n",
    "When you were young\n",
    "and on your own\n",
    "How did it feel\n",
    "to be alone?\n",
    "I was always thinking\n",
    "of games that I was playing.\n",
    "Trying to make\n",
    "the best of my time.\n",
    "\n",
    "But only love\n",
    "can break your heart\n",
    "Try to be sure\n",
    "right from the start\n",
    "Yes only love\n",
    "can break your heart\n",
    "What if your world\n",
    "should fall apart?\n",
    "\n",
    "I have a friend\n",
    "I've never seen\n",
    "He hides his head\n",
    "inside a dream\n",
    "Someone should call him\n",
    "and see if he can come out.\n",
    "Try to lose\n",
    "the down that he's found.\n",
    "\n",
    "But only love\n",
    "can break your heart\n",
    "Try to be sure\n",
    "right from the start\n",
    "Yes only love\n",
    "can break your heart\n",
    "What if your world\n",
    "should fall apart?\n",
    "\n",
    "I have a friend\n",
    "I've never seen\n",
    "He hides his head\n",
    "inside a dream\n",
    "Yes, only love\n",
    "can break your heart\n",
    "Yes, only love\n",
    "can break your heart\n",
    "\n",
    "\"\"\""
   ]
  },
  {
   "cell_type": "code",
   "execution_count": 20,
   "id": "c1607924-9c42-4317-93f4-2b14a2bf55bf",
   "metadata": {},
   "outputs": [
    {
     "name": "stdout",
     "output_type": "stream",
     "text": [
      "POSITIVE\n",
      "0.9691248536109924\n"
     ]
    }
   ],
   "source": [
    "sentence = Sentence(song1)\n",
    "classifier.predict(sentence)\n",
    "\n",
    "print(sentence.tag) # str\n",
    "print(sentence.score) # float"
   ]
  },
  {
   "cell_type": "code",
   "execution_count": 29,
   "id": "89757c6d-bfc9-49d8-aacb-4c72d57dad54",
   "metadata": {},
   "outputs": [
    {
     "name": "stdout",
     "output_type": "stream",
     "text": [
      "POSITIVE\n",
      "0.9958750605583191\n"
     ]
    }
   ],
   "source": [
    "sentence = Sentence(song2)\n",
    "classifier.predict(sentence)\n",
    "\n",
    "print(sentence.tag) # str\n",
    "print(sentence.score) # float"
   ]
  },
  {
   "cell_type": "code",
   "execution_count": 30,
   "id": "3e349ebb-0735-493c-98b0-0edaed4bca4c",
   "metadata": {},
   "outputs": [
    {
     "name": "stdout",
     "output_type": "stream",
     "text": [
      "POSITIVE\n",
      "0.9917768239974976\n"
     ]
    }
   ],
   "source": [
    "sentence = Sentence('But only love can break your heart')\n",
    "classifier.predict(sentence)\n",
    "\n",
    "print(sentence.tag) # str\n",
    "print(sentence.score) # float"
   ]
  },
  {
   "cell_type": "code",
   "execution_count": 31,
   "id": "54d57b87-aacb-4b6f-812e-40157ec96e6b",
   "metadata": {},
   "outputs": [
    {
     "name": "stdout",
     "output_type": "stream",
     "text": [
      "Collecting vaderSentiment\n",
      "  Downloading vaderSentiment-3.3.2-py2.py3-none-any.whl (125 kB)\n",
      "\u001b[2K     \u001b[38;2;114;156;31m━━━━━━━━━━━━━━━━━━━━━━━━━━━━━━━━━━━━━━━\u001b[0m \u001b[32m126.0/126.0 kB\u001b[0m \u001b[31m1.9 MB/s\u001b[0m eta \u001b[36m0:00:00\u001b[0m[36m0:00:01\u001b[0m\n",
      "\u001b[?25hRequirement already satisfied: requests in /opt/anaconda3/envs/songmoodswings/lib/python3.9/site-packages (from vaderSentiment) (2.28.1)\n",
      "Requirement already satisfied: certifi>=2017.4.17 in /opt/anaconda3/envs/songmoodswings/lib/python3.9/site-packages (from requests->vaderSentiment) (2022.9.24)\n",
      "Requirement already satisfied: idna<4,>=2.5 in /opt/anaconda3/envs/songmoodswings/lib/python3.9/site-packages (from requests->vaderSentiment) (3.4)\n",
      "Requirement already satisfied: charset-normalizer<3,>=2 in /opt/anaconda3/envs/songmoodswings/lib/python3.9/site-packages (from requests->vaderSentiment) (2.1.1)\n",
      "Requirement already satisfied: urllib3<1.27,>=1.21.1 in /opt/anaconda3/envs/songmoodswings/lib/python3.9/site-packages (from requests->vaderSentiment) (1.26.11)\n",
      "Installing collected packages: vaderSentiment\n",
      "Successfully installed vaderSentiment-3.3.2\n"
     ]
    }
   ],
   "source": [
    "!pip install vaderSentiment"
   ]
  },
  {
   "cell_type": "code",
   "execution_count": 32,
   "id": "c39e6831-efda-4391-a176-8e16d95acee5",
   "metadata": {},
   "outputs": [],
   "source": [
    "from vaderSentiment.vaderSentiment import SentimentIntensityAnalyzer\n",
    "    #note: depending on how you installed (e.g., using source code download versus pip install), you may need to import like this:\n",
    "    #from vaderSentiment import SentimentIntensityAnalyzer\n"
   ]
  },
  {
   "cell_type": "code",
   "execution_count": 33,
   "id": "2334be5c-8c29-4768-b7b5-23ad727cba11",
   "metadata": {},
   "outputs": [],
   "source": [
    "\n",
    "# --- examples -------\n",
    "sentences = [\"VADER is smart, handsome, and funny.\",  # positive sentence example\n",
    "             \"VADER is smart, handsome, and funny!\",  # punctuation emphasis handled correctly (sentiment intensity adjusted)\n",
    "             \"VADER is very smart, handsome, and funny.\", # booster words handled correctly (sentiment intensity adjusted)\n",
    "             \"VADER is VERY SMART, handsome, and FUNNY.\",  # emphasis for ALLCAPS handled\n",
    "             \"VADER is VERY SMART, handsome, and FUNNY!!!\", # combination of signals - VADER appropriately adjusts intensity\n",
    "             \"VADER is VERY SMART, uber handsome, and FRIGGIN FUNNY!!!\", # booster words & punctuation make this close to ceiling for score\n",
    "             \"VADER is not smart, handsome, nor funny.\",  # negation sentence example\n",
    "             \"The book was good.\",  # positive sentence\n",
    "             \"At least it isn't a horrible book.\",  # negated negative sentence with contraction\n",
    "             \"The book was only kind of good.\", # qualified positive sentence is handled correctly (intensity adjusted)\n",
    "             \"The plot was good, but the characters are uncompelling and the dialog is not great.\", # mixed negation sentence\n",
    "             \"Today SUX!\",  # negative slang with capitalization emphasis\n",
    "             \"Today only kinda sux! But I'll get by, lol\", # mixed sentiment example with slang and constrastive conjunction \"but\"\n",
    "             \"Make sure you :) or :D today!\",  # emoticons handled\n",
    "             \"Catch utf-8 emoji such as such as 💘 and 💋 and 😁\",  # emojis handled\n",
    "             \"Not bad at all\"  # Capitalized negation\n",
    "             ]\n",
    "\n",
    "analyzer = SentimentIntensityAnalyzer()"
   ]
  },
  {
   "cell_type": "code",
   "execution_count": 34,
   "id": "7f808323-8650-4bb3-a42c-6c6fa3081e8c",
   "metadata": {},
   "outputs": [
    {
     "name": "stdout",
     "output_type": "stream",
     "text": [
      "VADER is smart, handsome, and funny.----------------------------- {'neg': 0.0, 'neu': 0.254, 'pos': 0.746, 'compound': 0.8316}\n",
      "VADER is smart, handsome, and funny!----------------------------- {'neg': 0.0, 'neu': 0.248, 'pos': 0.752, 'compound': 0.8439}\n",
      "VADER is very smart, handsome, and funny.------------------------ {'neg': 0.0, 'neu': 0.299, 'pos': 0.701, 'compound': 0.8545}\n",
      "VADER is VERY SMART, handsome, and FUNNY.------------------------ {'neg': 0.0, 'neu': 0.246, 'pos': 0.754, 'compound': 0.9227}\n",
      "VADER is VERY SMART, handsome, and FUNNY!!!---------------------- {'neg': 0.0, 'neu': 0.233, 'pos': 0.767, 'compound': 0.9342}\n",
      "VADER is VERY SMART, uber handsome, and FRIGGIN FUNNY!!!--------- {'neg': 0.0, 'neu': 0.294, 'pos': 0.706, 'compound': 0.9469}\n",
      "VADER is not smart, handsome, nor funny.------------------------- {'neg': 0.646, 'neu': 0.354, 'pos': 0.0, 'compound': -0.7424}\n",
      "The book was good.----------------------------------------------- {'neg': 0.0, 'neu': 0.508, 'pos': 0.492, 'compound': 0.4404}\n",
      "At least it isn't a horrible book.------------------------------- {'neg': 0.0, 'neu': 0.678, 'pos': 0.322, 'compound': 0.431}\n",
      "The book was only kind of good.---------------------------------- {'neg': 0.0, 'neu': 0.697, 'pos': 0.303, 'compound': 0.3832}\n",
      "The plot was good, but the characters are uncompelling and the dialog is not great. {'neg': 0.327, 'neu': 0.579, 'pos': 0.094, 'compound': -0.7042}\n",
      "Today SUX!------------------------------------------------------- {'neg': 0.779, 'neu': 0.221, 'pos': 0.0, 'compound': -0.5461}\n",
      "Today only kinda sux! But I'll get by, lol----------------------- {'neg': 0.127, 'neu': 0.556, 'pos': 0.317, 'compound': 0.5249}\n",
      "Make sure you :) or :D today!------------------------------------ {'neg': 0.0, 'neu': 0.294, 'pos': 0.706, 'compound': 0.8633}\n",
      "Catch utf-8 emoji such as such as 💘 and 💋 and 😁------------------ {'neg': 0.0, 'neu': 0.615, 'pos': 0.385, 'compound': 0.875}\n",
      "Not bad at all--------------------------------------------------- {'neg': 0.0, 'neu': 0.513, 'pos': 0.487, 'compound': 0.431}\n"
     ]
    }
   ],
   "source": [
    "for sentence in sentences:\n",
    "    vs = analyzer.polarity_scores(sentence)\n",
    "    print(\"{:-<65} {}\".format(sentence, str(vs)))"
   ]
  },
  {
   "cell_type": "code",
   "execution_count": 47,
   "id": "38f89e16-5938-48c6-880c-46d53496c934",
   "metadata": {},
   "outputs": [],
   "source": [
    "# --- examples -------\n",
    "sentences = [\"But only love can break your heart\",\n",
    "             \"No Nothing else matters\",\n",
    "             \"But only love\",\n",
    "                \"can break your heart\",\n",
    "                \"Try to be sure\",\n",
    "                \"right from the start\",\n",
    "                \"Yes only love\",\n",
    "                \"can break your heart\",\n",
    "                \"What if your world\",\n",
    "                \"should fall apart?\",\n",
    "             \"what if your world should fall apart?\",\n",
    "             \"what if your world\",\n",
    "             \"should fall apart?\",\n",
    "            \"So close no matter how far\",\n",
    "            \"Couldn't be much more from the heart\",\n",
    "            \"Forever trusting who we are\",\n",
    "            \"And nothing else matters\",\n",
    "\n",
    "             ]\n"
   ]
  },
  {
   "cell_type": "code",
   "execution_count": 48,
   "id": "a2226e3c-6b4e-44ea-918e-6baecb7fe9e2",
   "metadata": {},
   "outputs": [
    {
     "name": "stdout",
     "output_type": "stream",
     "text": [
      "But only love can break your heart------------------------------- {'neg': 0.0, 'neu': 0.301, 'pos': 0.699, 'compound': 0.9274}\n",
      "No Nothing else matters------------------------------------------ {'neg': 0.621, 'neu': 0.379, 'pos': 0.0, 'compound': -0.3125}\n",
      "But only love---------------------------------------------------- {'neg': 0.0, 'neu': 0.256, 'pos': 0.744, 'compound': 0.7783}\n",
      "can break your heart--------------------------------------------- {'neg': 0.0, 'neu': 0.417, 'pos': 0.583, 'compound': 0.6369}\n",
      "Try to be sure--------------------------------------------------- {'neg': 0.0, 'neu': 0.566, 'pos': 0.434, 'compound': 0.3182}\n",
      "right from the start--------------------------------------------- {'neg': 0.0, 'neu': 1.0, 'pos': 0.0, 'compound': 0.0}\n",
      "Yes only love---------------------------------------------------- {'neg': 0.0, 'neu': 0.127, 'pos': 0.873, 'compound': 0.7845}\n",
      "can break your heart--------------------------------------------- {'neg': 0.0, 'neu': 0.417, 'pos': 0.583, 'compound': 0.6369}\n",
      "What if your world----------------------------------------------- {'neg': 0.0, 'neu': 1.0, 'pos': 0.0, 'compound': 0.0}\n",
      "should fall apart?----------------------------------------------- {'neg': 0.0, 'neu': 1.0, 'pos': 0.0, 'compound': 0.0}\n",
      "what if your world should fall apart?---------------------------- {'neg': 0.0, 'neu': 1.0, 'pos': 0.0, 'compound': 0.0}\n",
      "what if your world----------------------------------------------- {'neg': 0.0, 'neu': 1.0, 'pos': 0.0, 'compound': 0.0}\n",
      "should fall apart?----------------------------------------------- {'neg': 0.0, 'neu': 1.0, 'pos': 0.0, 'compound': 0.0}\n",
      "So close no matter how far--------------------------------------- {'neg': 0.202, 'neu': 0.605, 'pos': 0.193, 'compound': -0.0153}\n",
      "Couldn't be much more from the heart----------------------------- {'neg': 0.0, 'neu': 0.573, 'pos': 0.427, 'compound': 0.6666}\n",
      "Forever trusting who we are-------------------------------------- {'neg': 0.0, 'neu': 0.597, 'pos': 0.403, 'compound': 0.4019}\n",
      "And nothing else matters----------------------------------------- {'neg': 0.264, 'neu': 0.736, 'pos': 0.0, 'compound': -0.0191}\n"
     ]
    }
   ],
   "source": [
    "for sentence in sentences:\n",
    "    vs = analyzer.polarity_scores(sentence)\n",
    "    print(\"{:-<65} {}\".format(sentence, str(vs)))"
   ]
  },
  {
   "cell_type": "code",
   "execution_count": null,
   "id": "810cf263-1679-442d-91d8-6441ab3bcbb5",
   "metadata": {},
   "outputs": [],
   "source": []
  }
 ],
 "metadata": {
  "kernelspec": {
   "display_name": "Python 3 (ipykernel)",
   "language": "python",
   "name": "python3"
  },
  "language_info": {
   "codemirror_mode": {
    "name": "ipython",
    "version": 3
   },
   "file_extension": ".py",
   "mimetype": "text/x-python",
   "name": "python",
   "nbconvert_exporter": "python",
   "pygments_lexer": "ipython3",
   "version": "3.9.13"
  }
 },
 "nbformat": 4,
 "nbformat_minor": 5
}
